{
 "cells": [
  {
   "cell_type": "markdown",
   "id": "418c7b31",
   "metadata": {
    "id": "EwZa81ThPbt3",
    "papermill": {
     "duration": 0.021171,
     "end_time": "2023-11-03T17:40:30.212587",
     "exception": false,
     "start_time": "2023-11-03T17:40:30.191416",
     "status": "completed"
    },
    "tags": []
   },
   "source": [
    "## Setting the environment"
   ]
  },
  {
   "cell_type": "code",
   "execution_count": 1,
   "id": "e53eee00",
   "metadata": {
    "execution": {
     "iopub.execute_input": "2023-11-03T17:40:30.253615Z",
     "iopub.status.busy": "2023-11-03T17:40:30.253195Z",
     "iopub.status.idle": "2023-11-03T17:40:44.861938Z",
     "shell.execute_reply": "2023-11-03T17:40:44.860848Z"
    },
    "papermill": {
     "duration": 14.631693,
     "end_time": "2023-11-03T17:40:44.864286",
     "exception": false,
     "start_time": "2023-11-03T17:40:30.232593",
     "status": "completed"
    },
    "tags": []
   },
   "outputs": [
    {
     "name": "stderr",
     "output_type": "stream",
     "text": [
      "/opt/conda/lib/python3.10/site-packages/scipy/__init__.py:146: UserWarning: A NumPy version >=1.16.5 and <1.23.0 is required for this version of SciPy (detected version 1.23.5\n",
      "  warnings.warn(f\"A NumPy version >={np_minversion} and <{np_maxversion}\"\n"
     ]
    },
    {
     "name": "stdout",
     "output_type": "stream",
     "text": [
      "2 Physical GPUs, 2 Logical GPUs\n"
     ]
    }
   ],
   "source": [
    "import tensorflow as tf\n",
    "\n",
    "gpus = tf.config.experimental.list_physical_devices('GPU')\n",
    "if gpus:\n",
    "    try:\n",
    "        for gpu in gpus:\n",
    "            tf.config.experimental.set_memory_growth(gpu, True)\n",
    "        logical_gpus = tf.config.experimental.list_logical_devices('GPU')\n",
    "        print(len(gpus), \"Physical GPUs,\", len(logical_gpus), \"Logical GPUs\")\n",
    "    except RuntimeError as e:\n",
    "        print(e)"
   ]
  },
  {
   "cell_type": "code",
   "execution_count": 2,
   "id": "6339f112",
   "metadata": {
    "execution": {
     "iopub.execute_input": "2023-11-03T17:40:44.905010Z",
     "iopub.status.busy": "2023-11-03T17:40:44.904460Z",
     "iopub.status.idle": "2023-11-03T17:40:46.634700Z",
     "shell.execute_reply": "2023-11-03T17:40:46.633718Z"
    },
    "id": "W-vpR9QCOn2i",
    "papermill": {
     "duration": 1.753583,
     "end_time": "2023-11-03T17:40:46.637143",
     "exception": false,
     "start_time": "2023-11-03T17:40:44.883560",
     "status": "completed"
    },
    "tags": []
   },
   "outputs": [],
   "source": [
    "import pandas as pd\n",
    "import numpy as np\n",
    "import re\n",
    "import nltk\n",
    "from nltk.corpus import stopwords\n",
    "from numpy import array\n",
    "import missingno as msno\n",
    "import seaborn as sns\n",
    "from numpy import asarray\n",
    "from numpy import zeros\n",
    "import requests\n",
    "import zipfile\n",
    "from tensorflow.keras.preprocessing.text import one_hot, Tokenizer\n",
    "from tensorflow.keras.preprocessing.sequence import pad_sequences\n",
    "from tensorflow.keras.models import Sequential\n",
    "from keras.layers.core import Activation, Dropout, Dense\n",
    "from tensorflow.keras.layers import Flatten, GlobalMaxPooling1D, Embedding, Conv1D, LSTM\n",
    "from sklearn.model_selection import train_test_split"
   ]
  },
  {
   "cell_type": "markdown",
   "id": "5a3112a3",
   "metadata": {
    "id": "q6FO9rxjxHe_",
    "papermill": {
     "duration": 0.019027,
     "end_time": "2023-11-03T17:40:46.675873",
     "exception": false,
     "start_time": "2023-11-03T17:40:46.656846",
     "status": "completed"
    },
    "tags": []
   },
   "source": [
    "## Loading dataset"
   ]
  },
  {
   "cell_type": "code",
   "execution_count": 3,
   "id": "5968b981",
   "metadata": {
    "execution": {
     "iopub.execute_input": "2023-11-03T17:40:46.718164Z",
     "iopub.status.busy": "2023-11-03T17:40:46.717796Z",
     "iopub.status.idle": "2023-11-03T17:40:53.835818Z",
     "shell.execute_reply": "2023-11-03T17:40:53.834850Z"
    },
    "id": "sNL6yy_DO0n1",
    "papermill": {
     "duration": 7.141049,
     "end_time": "2023-11-03T17:40:53.838258",
     "exception": false,
     "start_time": "2023-11-03T17:40:46.697209",
     "status": "completed"
    },
    "tags": []
   },
   "outputs": [
    {
     "name": "stdout",
     "output_type": "stream",
     "text": [
      "All columns : \n",
      "Index(['firm', 'date_review', 'job_title', 'current', 'location',\n",
      "       'overall_rating', 'work_life_balance', 'culture_values',\n",
      "       'diversity_inclusion', 'career_opp', 'comp_benefits', 'senior_mgmt',\n",
      "       'recommend', 'ceo_approv', 'outlook', 'headline', 'pros', 'cons'],\n",
      "      dtype='object')\n",
      "\n",
      "Removed columns : \n",
      "['date_review', 'job_title', 'current', 'location', 'work_life_balance', 'culture_values', 'diversity_inclusion', 'career_opp', 'comp_benefits', 'senior_mgmt', 'recommend', 'ceo_approv', 'outlook']\n",
      "\n",
      "Selected columns : \n",
      "Index(['firm', 'overall_rating', 'headline', 'pros', 'cons'], dtype='object')\n"
     ]
    }
   ],
   "source": [
    "data    = pd.read_csv('/kaggle/input/glassdoor-job-reviews/glassdoor_reviews.csv', sep=',', encoding='latin-1')\n",
    "print(\"All columns : \");\n",
    "print(data.columns);\n",
    "Notkeep = [d for d in data.columns if d not in ['overall_rating','headline','pros','cons','firm']]\n",
    "print(\"\\nRemoved columns : \");\n",
    "print(Notkeep);\n",
    "data    = data.drop(columns=Notkeep)\n",
    "print(\"\\nSelected columns : \");\n",
    "print(data.columns);"
   ]
  },
  {
   "cell_type": "code",
   "execution_count": 4,
   "id": "0fe55faa",
   "metadata": {
    "execution": {
     "iopub.execute_input": "2023-11-03T17:40:53.880031Z",
     "iopub.status.busy": "2023-11-03T17:40:53.879691Z",
     "iopub.status.idle": "2023-11-03T17:40:55.524768Z",
     "shell.execute_reply": "2023-11-03T17:40:55.523782Z"
    },
    "papermill": {
     "duration": 1.668883,
     "end_time": "2023-11-03T17:40:55.526972",
     "exception": false,
     "start_time": "2023-11-03T17:40:53.858089",
     "status": "completed"
    },
    "tags": []
   },
   "outputs": [
    {
     "data": {
      "text/html": [
       "<div>\n",
       "<style scoped>\n",
       "    .dataframe tbody tr th:only-of-type {\n",
       "        vertical-align: middle;\n",
       "    }\n",
       "\n",
       "    .dataframe tbody tr th {\n",
       "        vertical-align: top;\n",
       "    }\n",
       "\n",
       "    .dataframe thead th {\n",
       "        text-align: right;\n",
       "    }\n",
       "</style>\n",
       "<table border=\"1\" class=\"dataframe\">\n",
       "  <thead>\n",
       "    <tr style=\"text-align: right;\">\n",
       "      <th></th>\n",
       "      <th>firm</th>\n",
       "      <th>overall_rating</th>\n",
       "      <th>review</th>\n",
       "    </tr>\n",
       "  </thead>\n",
       "  <tbody>\n",
       "    <tr>\n",
       "      <th>0</th>\n",
       "      <td>AFH-Wealth-Management</td>\n",
       "      <td>2</td>\n",
       "      <td>Young colleagues, poor micro management. Very ...</td>\n",
       "    </tr>\n",
       "    <tr>\n",
       "      <th>1</th>\n",
       "      <td>AFH-Wealth-Management</td>\n",
       "      <td>2</td>\n",
       "      <td>Excellent staff, poor salary. Friendly, helpfu...</td>\n",
       "    </tr>\n",
       "    <tr>\n",
       "      <th>2</th>\n",
       "      <td>AFH-Wealth-Management</td>\n",
       "      <td>1</td>\n",
       "      <td>Low salary, bad micromanagement. Easy to get t...</td>\n",
       "    </tr>\n",
       "    <tr>\n",
       "      <th>3</th>\n",
       "      <td>AFH-Wealth-Management</td>\n",
       "      <td>5</td>\n",
       "      <td>Over promised under delivered. Nice staff to w...</td>\n",
       "    </tr>\n",
       "    <tr>\n",
       "      <th>4</th>\n",
       "      <td>AFH-Wealth-Management</td>\n",
       "      <td>1</td>\n",
       "      <td>client reporting admin. Easy to get the job, N...</td>\n",
       "    </tr>\n",
       "    <tr>\n",
       "      <th>...</th>\n",
       "      <td>...</td>\n",
       "      <td>...</td>\n",
       "      <td>...</td>\n",
       "    </tr>\n",
       "    <tr>\n",
       "      <th>838561</th>\n",
       "      <td>the-LEGO-Group</td>\n",
       "      <td>5</td>\n",
       "      <td>Just an awesome company to work for!!!. Great ...</td>\n",
       "    </tr>\n",
       "    <tr>\n",
       "      <th>838562</th>\n",
       "      <td>the-LEGO-Group</td>\n",
       "      <td>3</td>\n",
       "      <td>working at lego. staff discount is really nice...</td>\n",
       "    </tr>\n",
       "    <tr>\n",
       "      <th>838563</th>\n",
       "      <td>the-LEGO-Group</td>\n",
       "      <td>4</td>\n",
       "      <td>not interested in growing their people. loved ...</td>\n",
       "    </tr>\n",
       "    <tr>\n",
       "      <th>838564</th>\n",
       "      <td>the-LEGO-Group</td>\n",
       "      <td>5</td>\n",
       "      <td>Great Place to Work. Good wages, good hours, l...</td>\n",
       "    </tr>\n",
       "    <tr>\n",
       "      <th>838565</th>\n",
       "      <td>the-LEGO-Group</td>\n",
       "      <td>5</td>\n",
       "      <td>I strongly recommend the LEGO Group as employe...</td>\n",
       "    </tr>\n",
       "  </tbody>\n",
       "</table>\n",
       "<p>838566 rows × 3 columns</p>\n",
       "</div>"
      ],
      "text/plain": [
       "                         firm  overall_rating  \\\n",
       "0       AFH-Wealth-Management               2   \n",
       "1       AFH-Wealth-Management               2   \n",
       "2       AFH-Wealth-Management               1   \n",
       "3       AFH-Wealth-Management               5   \n",
       "4       AFH-Wealth-Management               1   \n",
       "...                       ...             ...   \n",
       "838561         the-LEGO-Group               5   \n",
       "838562         the-LEGO-Group               3   \n",
       "838563         the-LEGO-Group               4   \n",
       "838564         the-LEGO-Group               5   \n",
       "838565         the-LEGO-Group               5   \n",
       "\n",
       "                                                   review  \n",
       "0       Young colleagues, poor micro management. Very ...  \n",
       "1       Excellent staff, poor salary. Friendly, helpfu...  \n",
       "2       Low salary, bad micromanagement. Easy to get t...  \n",
       "3       Over promised under delivered. Nice staff to w...  \n",
       "4       client reporting admin. Easy to get the job, N...  \n",
       "...                                                   ...  \n",
       "838561  Just an awesome company to work for!!!. Great ...  \n",
       "838562  working at lego. staff discount is really nice...  \n",
       "838563  not interested in growing their people. loved ...  \n",
       "838564  Great Place to Work. Good wages, good hours, l...  \n",
       "838565  I strongly recommend the LEGO Group as employe...  \n",
       "\n",
       "[838566 rows x 3 columns]"
      ]
     },
     "execution_count": 4,
     "metadata": {},
     "output_type": "execute_result"
    }
   ],
   "source": [
    "data['review'] = data['headline']+'. '+data['pros']+'. '+data['cons'];\n",
    "data.drop(columns=['headline','pros','cons'], inplace=True)\n",
    "data"
   ]
  },
  {
   "cell_type": "code",
   "execution_count": 5,
   "id": "d30cb3ee",
   "metadata": {
    "execution": {
     "iopub.execute_input": "2023-11-03T17:40:55.574761Z",
     "iopub.status.busy": "2023-11-03T17:40:55.574365Z",
     "iopub.status.idle": "2023-11-03T17:41:03.587632Z",
     "shell.execute_reply": "2023-11-03T17:41:03.586599Z"
    },
    "papermill": {
     "duration": 8.039963,
     "end_time": "2023-11-03T17:41:03.590031",
     "exception": false,
     "start_time": "2023-11-03T17:40:55.550068",
     "status": "completed"
    },
    "tags": []
   },
   "outputs": [
    {
     "data": {
      "text/html": [
       "<div>\n",
       "<style scoped>\n",
       "    .dataframe tbody tr th:only-of-type {\n",
       "        vertical-align: middle;\n",
       "    }\n",
       "\n",
       "    .dataframe tbody tr th {\n",
       "        vertical-align: top;\n",
       "    }\n",
       "\n",
       "    .dataframe thead th {\n",
       "        text-align: right;\n",
       "    }\n",
       "</style>\n",
       "<table border=\"1\" class=\"dataframe\">\n",
       "  <thead>\n",
       "    <tr style=\"text-align: right;\">\n",
       "      <th></th>\n",
       "      <th>firm</th>\n",
       "      <th>review</th>\n",
       "      <th>sentiment</th>\n",
       "    </tr>\n",
       "  </thead>\n",
       "  <tbody>\n",
       "    <tr>\n",
       "      <th>0</th>\n",
       "      <td>AFH-Wealth-Management</td>\n",
       "      <td>Young colleagues, poor micro management. Very ...</td>\n",
       "      <td>negative</td>\n",
       "    </tr>\n",
       "    <tr>\n",
       "      <th>1</th>\n",
       "      <td>AFH-Wealth-Management</td>\n",
       "      <td>Excellent staff, poor salary. Friendly, helpfu...</td>\n",
       "      <td>negative</td>\n",
       "    </tr>\n",
       "    <tr>\n",
       "      <th>2</th>\n",
       "      <td>AFH-Wealth-Management</td>\n",
       "      <td>Low salary, bad micromanagement. Easy to get t...</td>\n",
       "      <td>negative</td>\n",
       "    </tr>\n",
       "    <tr>\n",
       "      <th>3</th>\n",
       "      <td>AFH-Wealth-Management</td>\n",
       "      <td>Over promised under delivered. Nice staff to w...</td>\n",
       "      <td>positive</td>\n",
       "    </tr>\n",
       "    <tr>\n",
       "      <th>4</th>\n",
       "      <td>AFH-Wealth-Management</td>\n",
       "      <td>client reporting admin. Easy to get the job, N...</td>\n",
       "      <td>negative</td>\n",
       "    </tr>\n",
       "    <tr>\n",
       "      <th>...</th>\n",
       "      <td>...</td>\n",
       "      <td>...</td>\n",
       "      <td>...</td>\n",
       "    </tr>\n",
       "    <tr>\n",
       "      <th>838561</th>\n",
       "      <td>the-LEGO-Group</td>\n",
       "      <td>Just an awesome company to work for!!!. Great ...</td>\n",
       "      <td>positive</td>\n",
       "    </tr>\n",
       "    <tr>\n",
       "      <th>838562</th>\n",
       "      <td>the-LEGO-Group</td>\n",
       "      <td>working at lego. staff discount is really nice...</td>\n",
       "      <td>positive</td>\n",
       "    </tr>\n",
       "    <tr>\n",
       "      <th>838563</th>\n",
       "      <td>the-LEGO-Group</td>\n",
       "      <td>not interested in growing their people. loved ...</td>\n",
       "      <td>positive</td>\n",
       "    </tr>\n",
       "    <tr>\n",
       "      <th>838564</th>\n",
       "      <td>the-LEGO-Group</td>\n",
       "      <td>Great Place to Work. Good wages, good hours, l...</td>\n",
       "      <td>positive</td>\n",
       "    </tr>\n",
       "    <tr>\n",
       "      <th>838565</th>\n",
       "      <td>the-LEGO-Group</td>\n",
       "      <td>I strongly recommend the LEGO Group as employe...</td>\n",
       "      <td>positive</td>\n",
       "    </tr>\n",
       "  </tbody>\n",
       "</table>\n",
       "<p>838566 rows × 3 columns</p>\n",
       "</div>"
      ],
      "text/plain": [
       "                         firm  \\\n",
       "0       AFH-Wealth-Management   \n",
       "1       AFH-Wealth-Management   \n",
       "2       AFH-Wealth-Management   \n",
       "3       AFH-Wealth-Management   \n",
       "4       AFH-Wealth-Management   \n",
       "...                       ...   \n",
       "838561         the-LEGO-Group   \n",
       "838562         the-LEGO-Group   \n",
       "838563         the-LEGO-Group   \n",
       "838564         the-LEGO-Group   \n",
       "838565         the-LEGO-Group   \n",
       "\n",
       "                                                   review sentiment  \n",
       "0       Young colleagues, poor micro management. Very ...  negative  \n",
       "1       Excellent staff, poor salary. Friendly, helpfu...  negative  \n",
       "2       Low salary, bad micromanagement. Easy to get t...  negative  \n",
       "3       Over promised under delivered. Nice staff to w...  positive  \n",
       "4       client reporting admin. Easy to get the job, N...  negative  \n",
       "...                                                   ...       ...  \n",
       "838561  Just an awesome company to work for!!!. Great ...  positive  \n",
       "838562  working at lego. staff discount is really nice...  positive  \n",
       "838563  not interested in growing their people. loved ...  positive  \n",
       "838564  Great Place to Work. Good wages, good hours, l...  positive  \n",
       "838565  I strongly recommend the LEGO Group as employe...  positive  \n",
       "\n",
       "[838566 rows x 3 columns]"
      ]
     },
     "execution_count": 5,
     "metadata": {},
     "output_type": "execute_result"
    }
   ],
   "source": [
    "def sent(rating):\n",
    "    if rating['overall_rating'] >= 3:\n",
    "        value = 'positive' \n",
    "    else:\n",
    "        value = 'negative'\n",
    "    return value\n",
    "\n",
    "data['sentiment'] = data.apply(sent, axis=1)\n",
    "data.drop(columns=['overall_rating'], inplace=True)\n",
    "data"
   ]
  },
  {
   "cell_type": "code",
   "execution_count": 6,
   "id": "4f35ce74",
   "metadata": {
    "execution": {
     "iopub.execute_input": "2023-11-03T17:41:03.634811Z",
     "iopub.status.busy": "2023-11-03T17:41:03.634528Z",
     "iopub.status.idle": "2023-11-03T17:41:03.640616Z",
     "shell.execute_reply": "2023-11-03T17:41:03.639616Z"
    },
    "executionInfo": {
     "elapsed": 11,
     "status": "ok",
     "timestamp": 1658849654825,
     "user": {
      "displayName": "Skillcate Education",
      "userId": "11062674699417926870"
     },
     "user_tz": -330
    },
    "id": "elu2E2KjPBJX",
    "outputId": "22e0c258-e709-4c23-a9c6-adaadb3ac364",
    "papermill": {
     "duration": 0.030702,
     "end_time": "2023-11-03T17:41:03.642790",
     "exception": false,
     "start_time": "2023-11-03T17:41:03.612088",
     "status": "completed"
    },
    "tags": []
   },
   "outputs": [
    {
     "data": {
      "text/plain": [
       "(838566, 3)"
      ]
     },
     "execution_count": 6,
     "metadata": {},
     "output_type": "execute_result"
    }
   ],
   "source": [
    "data.shape"
   ]
  },
  {
   "cell_type": "code",
   "execution_count": 7,
   "id": "501cf7d8",
   "metadata": {
    "execution": {
     "iopub.execute_input": "2023-11-03T17:41:03.728132Z",
     "iopub.status.busy": "2023-11-03T17:41:03.727742Z",
     "iopub.status.idle": "2023-11-03T17:41:03.738272Z",
     "shell.execute_reply": "2023-11-03T17:41:03.737214Z"
    },
    "executionInfo": {
     "elapsed": 10,
     "status": "ok",
     "timestamp": 1658849654826,
     "user": {
      "displayName": "Skillcate Education",
      "userId": "11062674699417926870"
     },
     "user_tz": -330
    },
    "id": "Ua8sjtdaPIAq",
    "outputId": "f3f15bdf-adc9-4f5a-a166-659cec59245f",
    "papermill": {
     "duration": 0.035332,
     "end_time": "2023-11-03T17:41:03.741106",
     "exception": false,
     "start_time": "2023-11-03T17:41:03.705774",
     "status": "completed"
    },
    "tags": []
   },
   "outputs": [
    {
     "data": {
      "text/html": [
       "<div>\n",
       "<style scoped>\n",
       "    .dataframe tbody tr th:only-of-type {\n",
       "        vertical-align: middle;\n",
       "    }\n",
       "\n",
       "    .dataframe tbody tr th {\n",
       "        vertical-align: top;\n",
       "    }\n",
       "\n",
       "    .dataframe thead th {\n",
       "        text-align: right;\n",
       "    }\n",
       "</style>\n",
       "<table border=\"1\" class=\"dataframe\">\n",
       "  <thead>\n",
       "    <tr style=\"text-align: right;\">\n",
       "      <th></th>\n",
       "      <th>firm</th>\n",
       "      <th>review</th>\n",
       "      <th>sentiment</th>\n",
       "    </tr>\n",
       "  </thead>\n",
       "  <tbody>\n",
       "    <tr>\n",
       "      <th>0</th>\n",
       "      <td>AFH-Wealth-Management</td>\n",
       "      <td>Young colleagues, poor micro management. Very ...</td>\n",
       "      <td>negative</td>\n",
       "    </tr>\n",
       "    <tr>\n",
       "      <th>1</th>\n",
       "      <td>AFH-Wealth-Management</td>\n",
       "      <td>Excellent staff, poor salary. Friendly, helpfu...</td>\n",
       "      <td>negative</td>\n",
       "    </tr>\n",
       "    <tr>\n",
       "      <th>2</th>\n",
       "      <td>AFH-Wealth-Management</td>\n",
       "      <td>Low salary, bad micromanagement. Easy to get t...</td>\n",
       "      <td>negative</td>\n",
       "    </tr>\n",
       "    <tr>\n",
       "      <th>3</th>\n",
       "      <td>AFH-Wealth-Management</td>\n",
       "      <td>Over promised under delivered. Nice staff to w...</td>\n",
       "      <td>positive</td>\n",
       "    </tr>\n",
       "    <tr>\n",
       "      <th>4</th>\n",
       "      <td>AFH-Wealth-Management</td>\n",
       "      <td>client reporting admin. Easy to get the job, N...</td>\n",
       "      <td>negative</td>\n",
       "    </tr>\n",
       "  </tbody>\n",
       "</table>\n",
       "</div>"
      ],
      "text/plain": [
       "                    firm                                             review  \\\n",
       "0  AFH-Wealth-Management  Young colleagues, poor micro management. Very ...   \n",
       "1  AFH-Wealth-Management  Excellent staff, poor salary. Friendly, helpfu...   \n",
       "2  AFH-Wealth-Management  Low salary, bad micromanagement. Easy to get t...   \n",
       "3  AFH-Wealth-Management  Over promised under delivered. Nice staff to w...   \n",
       "4  AFH-Wealth-Management  client reporting admin. Easy to get the job, N...   \n",
       "\n",
       "  sentiment  \n",
       "0  negative  \n",
       "1  negative  \n",
       "2  negative  \n",
       "3  positive  \n",
       "4  negative  "
      ]
     },
     "execution_count": 7,
     "metadata": {},
     "output_type": "execute_result"
    }
   ],
   "source": [
    "data.head(5)"
   ]
  },
  {
   "cell_type": "code",
   "execution_count": 8,
   "id": "be87bd8f",
   "metadata": {
    "execution": {
     "iopub.execute_input": "2023-11-03T17:41:03.785223Z",
     "iopub.status.busy": "2023-11-03T17:41:03.784905Z",
     "iopub.status.idle": "2023-11-03T17:41:04.044360Z",
     "shell.execute_reply": "2023-11-03T17:41:04.043417Z"
    },
    "executionInfo": {
     "elapsed": 8,
     "status": "ok",
     "timestamp": 1658849654826,
     "user": {
      "displayName": "Skillcate Education",
      "userId": "11062674699417926870"
     },
     "user_tz": -330
    },
    "id": "CRIDYlo4O8Va",
    "outputId": "c2e8cbe3-7487-4b82-931a-d6e8bd2bce9f",
    "papermill": {
     "duration": 0.282908,
     "end_time": "2023-11-03T17:41:04.046389",
     "exception": false,
     "start_time": "2023-11-03T17:41:03.763481",
     "status": "completed"
    },
    "tags": []
   },
   "outputs": [
    {
     "data": {
      "text/plain": [
       "True"
      ]
     },
     "execution_count": 8,
     "metadata": {},
     "output_type": "execute_result"
    }
   ],
   "source": [
    "data.isnull().values.any()"
   ]
  },
  {
   "cell_type": "code",
   "execution_count": 9,
   "id": "001a6161",
   "metadata": {
    "execution": {
     "iopub.execute_input": "2023-11-03T17:41:04.092008Z",
     "iopub.status.busy": "2023-11-03T17:41:04.091089Z",
     "iopub.status.idle": "2023-11-03T17:41:06.204769Z",
     "shell.execute_reply": "2023-11-03T17:41:06.203888Z"
    },
    "papermill": {
     "duration": 2.138749,
     "end_time": "2023-11-03T17:41:06.207055",
     "exception": false,
     "start_time": "2023-11-03T17:41:04.068306",
     "status": "completed"
    },
    "tags": []
   },
   "outputs": [
    {
     "data": {
      "image/png": "[encoded data removed]",
      "text/plain": [
       "<Figure size 2500x1000 with 2 Axes>"
      ]
     },
     "metadata": {},
     "output_type": "display_data"
    }
   ],
   "source": [
    "msno.matrix(data,color=(0.3,0.36,0.44));"
   ]
  },
  {
   "cell_type": "code",
   "execution_count": 10,
   "id": "66676f87",
   "metadata": {
    "execution": {
     "iopub.execute_input": "2023-11-03T17:41:06.251343Z",
     "iopub.status.busy": "2023-11-03T17:41:06.250998Z",
     "iopub.status.idle": "2023-11-03T17:41:06.516282Z",
     "shell.execute_reply": "2023-11-03T17:41:06.515236Z"
    },
    "papermill": {
     "duration": 0.289683,
     "end_time": "2023-11-03T17:41:06.518502",
     "exception": false,
     "start_time": "2023-11-03T17:41:06.228819",
     "status": "completed"
    },
    "tags": []
   },
   "outputs": [
    {
     "data": {
      "text/plain": [
       "firm            0\n",
       "review       2605\n",
       "sentiment       0\n",
       "dtype: int64"
      ]
     },
     "execution_count": 10,
     "metadata": {},
     "output_type": "execute_result"
    }
   ],
   "source": [
    "data.isna().sum()"
   ]
  },
  {
   "cell_type": "code",
   "execution_count": 11,
   "id": "4b535507",
   "metadata": {
    "execution": {
     "iopub.execute_input": "2023-11-03T17:41:06.565615Z",
     "iopub.status.busy": "2023-11-03T17:41:06.565255Z",
     "iopub.status.idle": "2023-11-03T17:41:06.765626Z",
     "shell.execute_reply": "2023-11-03T17:41:06.764468Z"
    },
    "papermill": {
     "duration": 0.226519,
     "end_time": "2023-11-03T17:41:06.768115",
     "exception": false,
     "start_time": "2023-11-03T17:41:06.541596",
     "status": "completed"
    },
    "tags": []
   },
   "outputs": [],
   "source": [
    "data.dropna(subset=['review'], inplace=True)"
   ]
  },
  {
   "cell_type": "code",
   "execution_count": 12,
   "id": "d3f31e58",
   "metadata": {
    "execution": {
     "iopub.execute_input": "2023-11-03T17:41:06.816090Z",
     "iopub.status.busy": "2023-11-03T17:41:06.815741Z",
     "iopub.status.idle": "2023-11-03T17:41:09.031840Z",
     "shell.execute_reply": "2023-11-03T17:41:09.030914Z"
    },
    "papermill": {
     "duration": 2.242421,
     "end_time": "2023-11-03T17:41:09.034066",
     "exception": false,
     "start_time": "2023-11-03T17:41:06.791645",
     "status": "completed"
    },
    "tags": []
   },
   "outputs": [
    {
     "data": {
      "image/png": "[encoded data removed]",
      "text/plain": [
       "<Figure size 2500x1000 with 2 Axes>"
      ]
     },
     "metadata": {},
     "output_type": "display_data"
    }
   ],
   "source": [
    "msno.matrix(data,color=(0.3,0.36,0.44));"
   ]
  },
  {
   "cell_type": "code",
   "execution_count": 13,
   "id": "af64887e",
   "metadata": {
    "execution": {
     "iopub.execute_input": "2023-11-03T17:41:09.080784Z",
     "iopub.status.busy": "2023-11-03T17:41:09.079879Z",
     "iopub.status.idle": "2023-11-03T17:41:09.339875Z",
     "shell.execute_reply": "2023-11-03T17:41:09.338896Z"
    },
    "papermill": {
     "duration": 0.285599,
     "end_time": "2023-11-03T17:41:09.341914",
     "exception": false,
     "start_time": "2023-11-03T17:41:09.056315",
     "status": "completed"
    },
    "tags": []
   },
   "outputs": [
    {
     "data": {
      "text/plain": [
       "firm         0\n",
       "review       0\n",
       "sentiment    0\n",
       "dtype: int64"
      ]
     },
     "execution_count": 13,
     "metadata": {},
     "output_type": "execute_result"
    }
   ],
   "source": [
    "data.isna().sum()"
   ]
  },
  {
   "cell_type": "code",
   "execution_count": 14,
   "id": "60ab30a0",
   "metadata": {
    "execution": {
     "iopub.execute_input": "2023-11-03T17:41:09.390943Z",
     "iopub.status.busy": "2023-11-03T17:41:09.390593Z",
     "iopub.status.idle": "2023-11-03T17:41:10.420269Z",
     "shell.execute_reply": "2023-11-03T17:41:10.419250Z"
    },
    "executionInfo": {
     "elapsed": 8,
     "status": "ok",
     "timestamp": 1658849654826,
     "user": {
      "displayName": "Skillcate Education",
      "userId": "11062674699417926870"
     },
     "user_tz": -330
    },
    "id": "ys4A3cAFPSYI",
    "outputId": "2fe3d6c3-06b2-4cc4-c1d2-2ad120757a0e",
    "papermill": {
     "duration": 1.056687,
     "end_time": "2023-11-03T17:41:10.422747",
     "exception": false,
     "start_time": "2023-11-03T17:41:09.366060",
     "status": "completed"
    },
    "tags": []
   },
   "outputs": [
    {
     "data": {
      "text/plain": [
       "<Axes: xlabel='sentiment', ylabel='count'>"
      ]
     },
     "execution_count": 14,
     "metadata": {},
     "output_type": "execute_result"
    },
    {
     "data": {
      "image/png": "[encoded data removed]",
      "text/plain": [
       "<Figure size 640x480 with 1 Axes>"
      ]
     },
     "metadata": {},
     "output_type": "display_data"
    }
   ],
   "source": [
    "sns.countplot(x='sentiment', data=data)"
   ]
  },
  {
   "cell_type": "code",
   "execution_count": 15,
   "id": "9cd6876b",
   "metadata": {
    "execution": {
     "iopub.execute_input": "2023-11-03T17:41:10.470225Z",
     "iopub.status.busy": "2023-11-03T17:41:10.469889Z",
     "iopub.status.idle": "2023-11-03T17:41:10.571955Z",
     "shell.execute_reply": "2023-11-03T17:41:10.570999Z"
    },
    "papermill": {
     "duration": 0.128389,
     "end_time": "2023-11-03T17:41:10.574071",
     "exception": false,
     "start_time": "2023-11-03T17:41:10.445682",
     "status": "completed"
    },
    "tags": []
   },
   "outputs": [
    {
     "data": {
      "text/plain": [
       "sentiment\n",
       "positive    702529\n",
       "negative    133432\n",
       "Name: count, dtype: int64"
      ]
     },
     "execution_count": 15,
     "metadata": {},
     "output_type": "execute_result"
    }
   ],
   "source": [
    "sentiment_counts = data['sentiment'].value_counts()\n",
    "sentiment_counts"
   ]
  },
  {
   "cell_type": "code",
   "execution_count": 16,
   "id": "6e969a3a",
   "metadata": {
    "execution": {
     "iopub.execute_input": "2023-11-03T17:41:10.622111Z",
     "iopub.status.busy": "2023-11-03T17:41:10.621517Z",
     "iopub.status.idle": "2023-11-03T17:41:11.268495Z",
     "shell.execute_reply": "2023-11-03T17:41:11.267648Z"
    },
    "papermill": {
     "duration": 0.673033,
     "end_time": "2023-11-03T17:41:11.270803",
     "exception": false,
     "start_time": "2023-11-03T17:41:10.597770",
     "status": "completed"
    },
    "tags": []
   },
   "outputs": [],
   "source": [
    "negative_rows = data[data['sentiment'] == 'negative']\n",
    "positive_rows = data[data['sentiment'] == 'positive']\n",
    "\n",
    "random_negative_rows = negative_rows.sample(n=3432, random_state=42)\n",
    "random_positive_rows = positive_rows.sample(n=572529, random_state=42)\n",
    "\n",
    "data.drop(random_negative_rows.index, inplace=True)\n",
    "data.drop(random_positive_rows.index, inplace=True)"
   ]
  },
  {
   "cell_type": "code",
   "execution_count": 17,
   "id": "f0f4a77f",
   "metadata": {
    "execution": {
     "iopub.execute_input": "2023-11-03T17:41:11.318936Z",
     "iopub.status.busy": "2023-11-03T17:41:11.318561Z",
     "iopub.status.idle": "2023-11-03T17:41:11.356054Z",
     "shell.execute_reply": "2023-11-03T17:41:11.355013Z"
    },
    "papermill": {
     "duration": 0.06373,
     "end_time": "2023-11-03T17:41:11.358278",
     "exception": false,
     "start_time": "2023-11-03T17:41:11.294548",
     "status": "completed"
    },
    "tags": []
   },
   "outputs": [
    {
     "data": {
      "text/plain": [
       "sentiment\n",
       "negative    130000\n",
       "positive    130000\n",
       "Name: count, dtype: int64"
      ]
     },
     "execution_count": 17,
     "metadata": {},
     "output_type": "execute_result"
    }
   ],
   "source": [
    "sentiment_counts = data['sentiment'].value_counts()\n",
    "sentiment_counts"
   ]
  },
  {
   "cell_type": "code",
   "execution_count": 18,
   "id": "926e88d2",
   "metadata": {
    "execution": {
     "iopub.execute_input": "2023-11-03T17:41:11.407895Z",
     "iopub.status.busy": "2023-11-03T17:41:11.407028Z",
     "iopub.status.idle": "2023-11-03T17:41:11.815151Z",
     "shell.execute_reply": "2023-11-03T17:41:11.814238Z"
    },
    "papermill": {
     "duration": 0.435215,
     "end_time": "2023-11-03T17:41:11.817562",
     "exception": false,
     "start_time": "2023-11-03T17:41:11.382347",
     "status": "completed"
    },
    "tags": []
   },
   "outputs": [
    {
     "data": {
      "text/plain": [
       "<Axes: xlabel='sentiment', ylabel='count'>"
      ]
     },
     "execution_count": 18,
     "metadata": {},
     "output_type": "execute_result"
    },
    {
     "data": {
      "image/png": "[encoded data removed]",
      "text/plain": [
       "<Figure size 640x480 with 1 Axes>"
      ]
     },
     "metadata": {},
     "output_type": "display_data"
    }
   ],
   "source": [
    "sns.countplot(x='sentiment', data=data)"
   ]
  },
  {
   "cell_type": "markdown",
   "id": "e7909148",
   "metadata": {
    "id": "IAVIsg26PVZC",
    "papermill": {
     "duration": 0.023284,
     "end_time": "2023-11-03T17:41:11.864305",
     "exception": false,
     "start_time": "2023-11-03T17:41:11.841021",
     "status": "completed"
    },
    "tags": []
   },
   "source": [
    "## Data Preprocessing"
   ]
  },
  {
   "cell_type": "code",
   "execution_count": 19,
   "id": "a599c368",
   "metadata": {
    "execution": {
     "iopub.execute_input": "2023-11-03T17:41:11.912466Z",
     "iopub.status.busy": "2023-11-03T17:41:11.911761Z",
     "iopub.status.idle": "2023-11-03T17:41:11.925477Z",
     "shell.execute_reply": "2023-11-03T17:41:11.924554Z"
    },
    "executionInfo": {
     "elapsed": 7,
     "status": "ok",
     "timestamp": 1658849654826,
     "user": {
      "displayName": "Skillcate Education",
      "userId": "11062674699417926870"
     },
     "user_tz": -330
    },
    "id": "PJ6a6aKjPORv",
    "outputId": "d4c23272-ac55-4b30-b2ce-51cf361f4e77",
    "papermill": {
     "duration": 0.040145,
     "end_time": "2023-11-03T17:41:11.927508",
     "exception": false,
     "start_time": "2023-11-03T17:41:11.887363",
     "status": "completed"
    },
    "tags": []
   },
   "outputs": [
    {
     "data": {
      "text/plain": [
       "'Low salary, bad micromanagement. Easy to get the job even without experience in finance. Very low salary, poor working conditions, very little training provided but high expectations. Micro management are young, inexperienced and superficial girls who are not able to provide guidance and support for their teams.'"
      ]
     },
     "execution_count": 19,
     "metadata": {},
     "output_type": "execute_result"
    }
   ],
   "source": [
    "data[\"review\"][2]"
   ]
  },
  {
   "cell_type": "code",
   "execution_count": 20,
   "id": "85c30571",
   "metadata": {
    "execution": {
     "iopub.execute_input": "2023-11-03T17:41:11.976867Z",
     "iopub.status.busy": "2023-11-03T17:41:11.976056Z",
     "iopub.status.idle": "2023-11-03T17:41:11.981397Z",
     "shell.execute_reply": "2023-11-03T17:41:11.980529Z"
    },
    "id": "pPFVY9UtPnkY",
    "papermill": {
     "duration": 0.032656,
     "end_time": "2023-11-03T17:41:11.983506",
     "exception": false,
     "start_time": "2023-11-03T17:41:11.950850",
     "status": "completed"
    },
    "tags": []
   },
   "outputs": [],
   "source": [
    "TAG_RE = re.compile(r'<[^>]+>')\n",
    "\n",
    "def remove_tags(text):\n",
    "    '''Removes HTML tags: replaces anything between opening and closing <> with empty space'''\n",
    "\n",
    "    return TAG_RE.sub('', text)"
   ]
  },
  {
   "cell_type": "code",
   "execution_count": 21,
   "id": "63375c41",
   "metadata": {
    "execution": {
     "iopub.execute_input": "2023-11-03T17:41:12.034315Z",
     "iopub.status.busy": "2023-11-03T17:41:12.033918Z",
     "iopub.status.idle": "2023-11-03T17:41:12.136274Z",
     "shell.execute_reply": "2023-11-03T17:41:12.135333Z"
    },
    "executionInfo": {
     "elapsed": 778,
     "status": "ok",
     "timestamp": 1658849655598,
     "user": {
      "displayName": "Skillcate Education",
      "userId": "11062674699417926870"
     },
     "user_tz": -330
    },
    "id": "D3GyEDf7DwFz",
    "outputId": "90d99421-dc40-4526-f8ee-9737086a2412",
    "papermill": {
     "duration": 0.130262,
     "end_time": "2023-11-03T17:41:12.138343",
     "exception": false,
     "start_time": "2023-11-03T17:41:12.008081",
     "status": "completed"
    },
    "tags": []
   },
   "outputs": [
    {
     "name": "stdout",
     "output_type": "stream",
     "text": [
      "[nltk_data] Downloading package stopwords to /usr/share/nltk_data...\n",
      "[nltk_data]   Package stopwords is already up-to-date!\n"
     ]
    },
    {
     "data": {
      "text/plain": [
       "True"
      ]
     },
     "execution_count": 21,
     "metadata": {},
     "output_type": "execute_result"
    }
   ],
   "source": [
    "import nltk\n",
    "nltk.download('stopwords')"
   ]
  },
  {
   "cell_type": "code",
   "execution_count": 22,
   "id": "ae7f1bb0",
   "metadata": {
    "execution": {
     "iopub.execute_input": "2023-11-03T17:41:12.188398Z",
     "iopub.status.busy": "2023-11-03T17:41:12.188016Z",
     "iopub.status.idle": "2023-11-03T17:41:12.195437Z",
     "shell.execute_reply": "2023-11-03T17:41:12.194190Z"
    },
    "id": "QBuD9E20PZDb",
    "papermill": {
     "duration": 0.035345,
     "end_time": "2023-11-03T17:41:12.197678",
     "exception": false,
     "start_time": "2023-11-03T17:41:12.162333",
     "status": "completed"
    },
    "tags": []
   },
   "outputs": [],
   "source": [
    "def preprocess_text(sen):\n",
    "    '''Cleans text data up, leaving only 2 or more char long non-stepwords composed of A-Z & a-z only\n",
    "    in lowercase'''\n",
    "    \n",
    "    sentence = sen.lower()\n",
    "\n",
    "    # Remove html tags\n",
    "    sentence = remove_tags(sentence)\n",
    "\n",
    "    # Remove punctuations and numbers\n",
    "    sentence = re.sub('[^a-zA-Z]', ' ', sentence)\n",
    "\n",
    "    # Single character removal\n",
    "    sentence = re.sub(r\"\\s+[a-zA-Z]\\s+\", ' ', sentence)  # When we remove apostrophe from the word \"Mark's\", the apostrophe is replaced by an empty space. Hence, we are left with single character \"s\" that we are removing here.\n",
    "\n",
    "    # Remove multiple spaces\n",
    "    sentence = re.sub(r'\\s+', ' ', sentence)  # Next, we remove all the single characters and replace it by a space which creates multiple spaces in our text. Finally, we remove the multiple spaces from our text as well.\n",
    "\n",
    "    # Remove Stopwords\n",
    "    pattern = re.compile(r'\\b(' + r'|'.join(stopwords.words('english')) + r')\\b\\s*')\n",
    "    sentence = pattern.sub('', sentence)\n",
    "\n",
    "    return sentence"
   ]
  },
  {
   "cell_type": "code",
   "execution_count": 23,
   "id": "eaec9266",
   "metadata": {
    "execution": {
     "iopub.execute_input": "2023-11-03T17:41:12.247629Z",
     "iopub.status.busy": "2023-11-03T17:41:12.247332Z",
     "iopub.status.idle": "2023-11-03T17:42:22.177515Z",
     "shell.execute_reply": "2023-11-03T17:42:22.176481Z"
    },
    "papermill": {
     "duration": 69.983944,
     "end_time": "2023-11-03T17:42:22.205842",
     "exception": false,
     "start_time": "2023-11-03T17:41:12.221898",
     "status": "completed"
    },
    "tags": []
   },
   "outputs": [
    {
     "data": {
      "text/html": [
       "<div>\n",
       "<style scoped>\n",
       "    .dataframe tbody tr th:only-of-type {\n",
       "        vertical-align: middle;\n",
       "    }\n",
       "\n",
       "    .dataframe tbody tr th {\n",
       "        vertical-align: top;\n",
       "    }\n",
       "\n",
       "    .dataframe thead th {\n",
       "        text-align: right;\n",
       "    }\n",
       "</style>\n",
       "<table border=\"1\" class=\"dataframe\">\n",
       "  <thead>\n",
       "    <tr style=\"text-align: right;\">\n",
       "      <th></th>\n",
       "      <th>firm</th>\n",
       "      <th>review</th>\n",
       "      <th>sentiment</th>\n",
       "    </tr>\n",
       "  </thead>\n",
       "  <tbody>\n",
       "    <tr>\n",
       "      <th>0</th>\n",
       "      <td>AFH-Wealth-Management</td>\n",
       "      <td>young colleagues poor micro management friendl...</td>\n",
       "      <td>negative</td>\n",
       "    </tr>\n",
       "    <tr>\n",
       "      <th>1</th>\n",
       "      <td>AFH-Wealth-Management</td>\n",
       "      <td>excellent staff poor salary friendly helpful h...</td>\n",
       "      <td>negative</td>\n",
       "    </tr>\n",
       "    <tr>\n",
       "      <th>2</th>\n",
       "      <td>AFH-Wealth-Management</td>\n",
       "      <td>low salary bad micromanagement easy get job ev...</td>\n",
       "      <td>negative</td>\n",
       "    </tr>\n",
       "    <tr>\n",
       "      <th>4</th>\n",
       "      <td>AFH-Wealth-Management</td>\n",
       "      <td>client reporting admin easy get job nice colle...</td>\n",
       "      <td>negative</td>\n",
       "    </tr>\n",
       "    <tr>\n",
       "      <th>6</th>\n",
       "      <td>AFH-Wealth-Management</td>\n",
       "      <td>horrible management good investment management...</td>\n",
       "      <td>negative</td>\n",
       "    </tr>\n",
       "    <tr>\n",
       "      <th>...</th>\n",
       "      <td>...</td>\n",
       "      <td>...</td>\n",
       "      <td>...</td>\n",
       "    </tr>\n",
       "    <tr>\n",
       "      <th>838557</th>\n",
       "      <td>the-LEGO-Group</td>\n",
       "      <td>ok work discount lego sets management bad</td>\n",
       "      <td>negative</td>\n",
       "    </tr>\n",
       "    <tr>\n",
       "      <th>838558</th>\n",
       "      <td>the-LEGO-Group</td>\n",
       "      <td>great brand family owned great brand danish cu...</td>\n",
       "      <td>positive</td>\n",
       "    </tr>\n",
       "    <tr>\n",
       "      <th>838559</th>\n",
       "      <td>the-LEGO-Group</td>\n",
       "      <td>friendly staff members lego staff friendly get...</td>\n",
       "      <td>negative</td>\n",
       "    </tr>\n",
       "    <tr>\n",
       "      <th>838560</th>\n",
       "      <td>the-LEGO-Group</td>\n",
       "      <td>awesome place work company clear purpose one t...</td>\n",
       "      <td>positive</td>\n",
       "    </tr>\n",
       "    <tr>\n",
       "      <th>838562</th>\n",
       "      <td>the-LEGO-Group</td>\n",
       "      <td>working lego staff discount really nice micro ...</td>\n",
       "      <td>positive</td>\n",
       "    </tr>\n",
       "  </tbody>\n",
       "</table>\n",
       "<p>260000 rows × 3 columns</p>\n",
       "</div>"
      ],
      "text/plain": [
       "                         firm  \\\n",
       "0       AFH-Wealth-Management   \n",
       "1       AFH-Wealth-Management   \n",
       "2       AFH-Wealth-Management   \n",
       "4       AFH-Wealth-Management   \n",
       "6       AFH-Wealth-Management   \n",
       "...                       ...   \n",
       "838557         the-LEGO-Group   \n",
       "838558         the-LEGO-Group   \n",
       "838559         the-LEGO-Group   \n",
       "838560         the-LEGO-Group   \n",
       "838562         the-LEGO-Group   \n",
       "\n",
       "                                                   review sentiment  \n",
       "0       young colleagues poor micro management friendl...  negative  \n",
       "1       excellent staff poor salary friendly helpful h...  negative  \n",
       "2       low salary bad micromanagement easy get job ev...  negative  \n",
       "4       client reporting admin easy get job nice colle...  negative  \n",
       "6       horrible management good investment management...  negative  \n",
       "...                                                   ...       ...  \n",
       "838557         ok work discount lego sets management bad   negative  \n",
       "838558  great brand family owned great brand danish cu...  positive  \n",
       "838559  friendly staff members lego staff friendly get...  negative  \n",
       "838560  awesome place work company clear purpose one t...  positive  \n",
       "838562  working lego staff discount really nice micro ...  positive  \n",
       "\n",
       "[260000 rows x 3 columns]"
      ]
     },
     "execution_count": 23,
     "metadata": {},
     "output_type": "execute_result"
    }
   ],
   "source": [
    "data['review'] = data['review'].apply(preprocess_text)\n",
    "data"
   ]
  },
  {
   "cell_type": "code",
   "execution_count": 24,
   "id": "70262482",
   "metadata": {
    "execution": {
     "iopub.execute_input": "2023-11-03T17:42:22.255338Z",
     "iopub.status.busy": "2023-11-03T17:42:22.255001Z",
     "iopub.status.idle": "2023-11-03T17:44:57.321310Z",
     "shell.execute_reply": "2023-11-03T17:44:57.320312Z"
    },
    "papermill": {
     "duration": 155.119447,
     "end_time": "2023-11-03T17:44:57.349734",
     "exception": false,
     "start_time": "2023-11-03T17:42:22.230287",
     "status": "completed"
    },
    "tags": []
   },
   "outputs": [
    {
     "data": {
      "text/html": [
       "<div>\n",
       "<style scoped>\n",
       "    .dataframe tbody tr th:only-of-type {\n",
       "        vertical-align: middle;\n",
       "    }\n",
       "\n",
       "    .dataframe tbody tr th {\n",
       "        vertical-align: top;\n",
       "    }\n",
       "\n",
       "    .dataframe thead th {\n",
       "        text-align: right;\n",
       "    }\n",
       "</style>\n",
       "<table border=\"1\" class=\"dataframe\">\n",
       "  <thead>\n",
       "    <tr style=\"text-align: right;\">\n",
       "      <th></th>\n",
       "      <th>firm</th>\n",
       "      <th>review</th>\n",
       "      <th>sentiment</th>\n",
       "    </tr>\n",
       "  </thead>\n",
       "  <tbody>\n",
       "    <tr>\n",
       "      <th>0</th>\n",
       "      <td>AFH-Wealth-Management</td>\n",
       "      <td>young colleagues poor micro management friendl...</td>\n",
       "      <td>negative</td>\n",
       "    </tr>\n",
       "    <tr>\n",
       "      <th>1</th>\n",
       "      <td>AFH-Wealth-Management</td>\n",
       "      <td>excellent staff poor salary friendly helpful h...</td>\n",
       "      <td>negative</td>\n",
       "    </tr>\n",
       "    <tr>\n",
       "      <th>2</th>\n",
       "      <td>AFH-Wealth-Management</td>\n",
       "      <td>low salary bad micromanagement easy get job ev...</td>\n",
       "      <td>negative</td>\n",
       "    </tr>\n",
       "    <tr>\n",
       "      <th>4</th>\n",
       "      <td>AFH-Wealth-Management</td>\n",
       "      <td>client reporting admin easy get job nice colle...</td>\n",
       "      <td>negative</td>\n",
       "    </tr>\n",
       "    <tr>\n",
       "      <th>6</th>\n",
       "      <td>AFH-Wealth-Management</td>\n",
       "      <td>horrible management good investment management...</td>\n",
       "      <td>negative</td>\n",
       "    </tr>\n",
       "    <tr>\n",
       "      <th>...</th>\n",
       "      <td>...</td>\n",
       "      <td>...</td>\n",
       "      <td>...</td>\n",
       "    </tr>\n",
       "    <tr>\n",
       "      <th>838557</th>\n",
       "      <td>the-LEGO-Group</td>\n",
       "      <td>ok work discount lego_sets management bad</td>\n",
       "      <td>negative</td>\n",
       "    </tr>\n",
       "    <tr>\n",
       "      <th>838558</th>\n",
       "      <td>the-LEGO-Group</td>\n",
       "      <td>great brand family owned great brand danish cu...</td>\n",
       "      <td>positive</td>\n",
       "    </tr>\n",
       "    <tr>\n",
       "      <th>838559</th>\n",
       "      <td>the-LEGO-Group</td>\n",
       "      <td>friendly staff members lego staff friendly get...</td>\n",
       "      <td>negative</td>\n",
       "    </tr>\n",
       "    <tr>\n",
       "      <th>838560</th>\n",
       "      <td>the-LEGO-Group</td>\n",
       "      <td>awesome place work company clear purpose one t...</td>\n",
       "      <td>positive</td>\n",
       "    </tr>\n",
       "    <tr>\n",
       "      <th>838562</th>\n",
       "      <td>the-LEGO-Group</td>\n",
       "      <td>working lego staff discount really nice micro_...</td>\n",
       "      <td>positive</td>\n",
       "    </tr>\n",
       "  </tbody>\n",
       "</table>\n",
       "<p>260000 rows × 3 columns</p>\n",
       "</div>"
      ],
      "text/plain": [
       "                         firm  \\\n",
       "0       AFH-Wealth-Management   \n",
       "1       AFH-Wealth-Management   \n",
       "2       AFH-Wealth-Management   \n",
       "4       AFH-Wealth-Management   \n",
       "6       AFH-Wealth-Management   \n",
       "...                       ...   \n",
       "838557         the-LEGO-Group   \n",
       "838558         the-LEGO-Group   \n",
       "838559         the-LEGO-Group   \n",
       "838560         the-LEGO-Group   \n",
       "838562         the-LEGO-Group   \n",
       "\n",
       "                                                   review sentiment  \n",
       "0       young colleagues poor micro management friendl...  negative  \n",
       "1       excellent staff poor salary friendly helpful h...  negative  \n",
       "2       low salary bad micromanagement easy get job ev...  negative  \n",
       "4       client reporting admin easy get job nice colle...  negative  \n",
       "6       horrible management good investment management...  negative  \n",
       "...                                                   ...       ...  \n",
       "838557          ok work discount lego_sets management bad  negative  \n",
       "838558  great brand family owned great brand danish cu...  positive  \n",
       "838559  friendly staff members lego staff friendly get...  negative  \n",
       "838560  awesome place work company clear purpose one t...  positive  \n",
       "838562  working lego staff discount really nice micro_...  positive  \n",
       "\n",
       "[260000 rows x 3 columns]"
      ]
     },
     "execution_count": 24,
     "metadata": {},
     "output_type": "execute_result"
    }
   ],
   "source": [
    "from gensim.models import Phrases\n",
    "from gensim.models.phrases import Phraser\n",
    "from nltk.tokenize import word_tokenize\n",
    "\n",
    "tokenized_review = data['review'].apply(word_tokenize)\n",
    "\n",
    "phrases_model_review = Phrases(tokenized_review, min_count=1, threshold=100)\n",
    "\n",
    "phrases_review = Phraser(phrases_model_review)\n",
    "\n",
    "collocation_detected_review = list(phrases_review[tokenized_review])\n",
    "\n",
    "collocation_detected_review = [' '.join(tokens) for tokens in collocation_detected_review]\n",
    "\n",
    "data['review'] = collocation_detected_review\n",
    "\n",
    "data"
   ]
  },
  {
   "cell_type": "code",
   "execution_count": 25,
   "id": "ff7a85ae",
   "metadata": {
    "execution": {
     "iopub.execute_input": "2023-11-03T17:44:57.401247Z",
     "iopub.status.busy": "2023-11-03T17:44:57.400880Z",
     "iopub.status.idle": "2023-11-03T17:44:57.500877Z",
     "shell.execute_reply": "2023-11-03T17:44:57.499925Z"
    },
    "papermill": {
     "duration": 0.128233,
     "end_time": "2023-11-03T17:44:57.502913",
     "exception": false,
     "start_time": "2023-11-03T17:44:57.374680",
     "status": "completed"
    },
    "tags": []
   },
   "outputs": [],
   "source": [
    "X = []\n",
    "sentences = list(data['review'])\n",
    "for sen in sentences:\n",
    "    X.append(sen)"
   ]
  },
  {
   "cell_type": "code",
   "execution_count": 26,
   "id": "eea566fb",
   "metadata": {
    "execution": {
     "iopub.execute_input": "2023-11-03T17:44:57.556151Z",
     "iopub.status.busy": "2023-11-03T17:44:57.555457Z",
     "iopub.status.idle": "2023-11-03T17:44:57.561724Z",
     "shell.execute_reply": "2023-11-03T17:44:57.560843Z"
    },
    "papermill": {
     "duration": 0.035728,
     "end_time": "2023-11-03T17:44:57.563876",
     "exception": false,
     "start_time": "2023-11-03T17:44:57.528148",
     "status": "completed"
    },
    "tags": []
   },
   "outputs": [
    {
     "data": {
      "text/plain": [
       "'low salary bad micromanagement easy get job even without experience finance low salary poor working conditions little training provided high expectations micro management young inexperienced superficial girls able provide guidance support teams'"
      ]
     },
     "execution_count": 26,
     "metadata": {},
     "output_type": "execute_result"
    }
   ],
   "source": [
    "X[2]"
   ]
  },
  {
   "cell_type": "code",
   "execution_count": 27,
   "id": "cccdeefe",
   "metadata": {
    "execution": {
     "iopub.execute_input": "2023-11-03T17:44:57.619682Z",
     "iopub.status.busy": "2023-11-03T17:44:57.619044Z",
     "iopub.status.idle": "2023-11-03T17:44:57.729006Z",
     "shell.execute_reply": "2023-11-03T17:44:57.728192Z"
    },
    "papermill": {
     "duration": 0.139563,
     "end_time": "2023-11-03T17:44:57.731129",
     "exception": false,
     "start_time": "2023-11-03T17:44:57.591566",
     "status": "completed"
    },
    "tags": []
   },
   "outputs": [],
   "source": [
    "y = data['sentiment']\n",
    "\n",
    "y = np.array(list(map(lambda x: 1 if x==\"positive\" else 0, y)))"
   ]
  },
  {
   "cell_type": "code",
   "execution_count": 28,
   "id": "53ffc805",
   "metadata": {
    "execution": {
     "iopub.execute_input": "2023-11-03T17:44:57.783316Z",
     "iopub.status.busy": "2023-11-03T17:44:57.782981Z",
     "iopub.status.idle": "2023-11-03T17:44:57.872803Z",
     "shell.execute_reply": "2023-11-03T17:44:57.872000Z"
    },
    "id": "UZPyxSQVQPT_",
    "papermill": {
     "duration": 0.118388,
     "end_time": "2023-11-03T17:44:57.875096",
     "exception": false,
     "start_time": "2023-11-03T17:44:57.756708",
     "status": "completed"
    },
    "tags": []
   },
   "outputs": [],
   "source": [
    "X_train, X_test, y_train, y_test = train_test_split(X, y, test_size=0.20, random_state=42)"
   ]
  },
  {
   "cell_type": "markdown",
   "id": "68e5754c",
   "metadata": {
    "id": "FsF3k9QbQc5q",
    "papermill": {
     "duration": 0.024143,
     "end_time": "2023-11-03T17:44:57.924322",
     "exception": false,
     "start_time": "2023-11-03T17:44:57.900179",
     "status": "completed"
    },
    "tags": []
   },
   "source": [
    "## Preparing embedding layer"
   ]
  },
  {
   "cell_type": "code",
   "execution_count": 29,
   "id": "2c94108a",
   "metadata": {
    "execution": {
     "iopub.execute_input": "2023-11-03T17:44:57.974662Z",
     "iopub.status.busy": "2023-11-03T17:44:57.973871Z",
     "iopub.status.idle": "2023-11-03T17:45:12.159174Z",
     "shell.execute_reply": "2023-11-03T17:45:12.158324Z"
    },
    "id": "kZ5kWzGKeAgc",
    "papermill": {
     "duration": 14.21281,
     "end_time": "2023-11-03T17:45:12.161519",
     "exception": false,
     "start_time": "2023-11-03T17:44:57.948709",
     "status": "completed"
    },
    "tags": []
   },
   "outputs": [],
   "source": [
    "word_tokenizer = Tokenizer()\n",
    "word_tokenizer.fit_on_texts(X_train)\n",
    "\n",
    "X_train = word_tokenizer.texts_to_sequences(X_train)\n",
    "X_test = word_tokenizer.texts_to_sequences(X_test)"
   ]
  },
  {
   "cell_type": "code",
   "execution_count": 30,
   "id": "6229f4c8",
   "metadata": {
    "execution": {
     "iopub.execute_input": "2023-11-03T17:45:12.212966Z",
     "iopub.status.busy": "2023-11-03T17:45:12.212281Z",
     "iopub.status.idle": "2023-11-03T17:45:12.218461Z",
     "shell.execute_reply": "2023-11-03T17:45:12.217496Z"
    },
    "executionInfo": {
     "elapsed": 25,
     "status": "ok",
     "timestamp": 1658849689767,
     "user": {
      "displayName": "Skillcate Education",
      "userId": "11062674699417926870"
     },
     "user_tz": -330
    },
    "id": "vn-Rj21reKVm",
    "outputId": "8bda9c62-df83-4e8e-c9af-d5f7ab98537e",
    "papermill": {
     "duration": 0.033947,
     "end_time": "2023-11-03T17:45:12.220496",
     "exception": false,
     "start_time": "2023-11-03T17:45:12.186549",
     "status": "completed"
    },
    "tags": []
   },
   "outputs": [
    {
     "data": {
      "text/plain": [
       "59794"
      ]
     },
     "execution_count": 30,
     "metadata": {},
     "output_type": "execute_result"
    }
   ],
   "source": [
    "vocab_length = len(word_tokenizer.word_index) + 1\n",
    "\n",
    "vocab_length"
   ]
  },
  {
   "cell_type": "code",
   "execution_count": 31,
   "id": "07bf9e69",
   "metadata": {
    "execution": {
     "iopub.execute_input": "2023-11-03T17:45:12.271477Z",
     "iopub.status.busy": "2023-11-03T17:45:12.271082Z",
     "iopub.status.idle": "2023-11-03T17:45:13.890768Z",
     "shell.execute_reply": "2023-11-03T17:45:13.889702Z"
    },
    "id": "9-QqBAR0hz22",
    "papermill": {
     "duration": 1.647786,
     "end_time": "2023-11-03T17:45:13.893147",
     "exception": false,
     "start_time": "2023-11-03T17:45:12.245361",
     "status": "completed"
    },
    "tags": []
   },
   "outputs": [],
   "source": [
    "maxlen = 100\n",
    "\n",
    "X_train = pad_sequences(X_train, padding='post', maxlen=maxlen)\n",
    "X_test = pad_sequences(X_test, padding='post', maxlen=maxlen)"
   ]
  },
  {
   "cell_type": "code",
   "execution_count": 32,
   "id": "54806b68",
   "metadata": {
    "execution": {
     "iopub.execute_input": "2023-11-03T17:45:13.946798Z",
     "iopub.status.busy": "2023-11-03T17:45:13.945779Z",
     "iopub.status.idle": "2023-11-03T17:53:20.212308Z",
     "shell.execute_reply": "2023-11-03T17:53:20.211334Z"
    },
    "id": "VH4uFszlRGPk",
    "papermill": {
     "duration": 486.29549,
     "end_time": "2023-11-03T17:53:20.214853",
     "exception": false,
     "start_time": "2023-11-03T17:45:13.919363",
     "status": "completed"
    },
    "tags": []
   },
   "outputs": [],
   "source": [
    "embeddings_dictionary = dict()\n",
    "\n",
    "glove_url = 'https://nlp.stanford.edu/data/glove.6B.zip'\n",
    "\n",
    "response = requests.get(glove_url, stream=True)\n",
    "\n",
    "with open('glove.6B.zip', 'wb') as f:\n",
    "    for chunk in response.iter_content(chunk_size=8192):\n",
    "        f.write(chunk)\n",
    "\n",
    "with zipfile.ZipFile('glove.6B.zip', 'r') as zip_ref:\n",
    "    zip_ref.extractall('./')\n",
    "\n",
    "embeddings_dictionary = dict()\n",
    "\n",
    "glove_file = open('glove.6B.100d.txt', encoding=\"utf8\")\n",
    "\n",
    "for line in glove_file:\n",
    "    records = line.split()\n",
    "    word = records[0]\n",
    "    vector_dimensions = asarray(records[1:], dtype='float32')\n",
    "    embeddings_dictionary [word] = vector_dimensions\n",
    "glove_file.close()"
   ]
  },
  {
   "cell_type": "code",
   "execution_count": 33,
   "id": "0f7eafd5",
   "metadata": {
    "execution": {
     "iopub.execute_input": "2023-11-03T17:53:20.266610Z",
     "iopub.status.busy": "2023-11-03T17:53:20.265884Z",
     "iopub.status.idle": "2023-11-03T17:53:20.387519Z",
     "shell.execute_reply": "2023-11-03T17:53:20.386457Z"
    },
    "id": "ZN6SP61FSDZB",
    "papermill": {
     "duration": 0.149998,
     "end_time": "2023-11-03T17:53:20.390078",
     "exception": false,
     "start_time": "2023-11-03T17:53:20.240080",
     "status": "completed"
    },
    "tags": []
   },
   "outputs": [],
   "source": [
    "embedding_matrix = zeros((vocab_length, 100))\n",
    "for word, index in word_tokenizer.word_index.items():\n",
    "    embedding_vector = embeddings_dictionary.get(word)\n",
    "    if embedding_vector is not None:\n",
    "        embedding_matrix[index] = embedding_vector"
   ]
  },
  {
   "cell_type": "code",
   "execution_count": 34,
   "id": "c6868028",
   "metadata": {
    "execution": {
     "iopub.execute_input": "2023-11-03T17:53:20.440782Z",
     "iopub.status.busy": "2023-11-03T17:53:20.440046Z",
     "iopub.status.idle": "2023-11-03T17:53:20.445900Z",
     "shell.execute_reply": "2023-11-03T17:53:20.445108Z"
    },
    "executionInfo": {
     "elapsed": 25,
     "status": "ok",
     "timestamp": 1658849701214,
     "user": {
      "displayName": "Skillcate Education",
      "userId": "11062674699417926870"
     },
     "user_tz": -330
    },
    "id": "fjwFEeCmiAPo",
    "outputId": "2507711f-fcb8-4c89-f912-28512bdb476c",
    "papermill": {
     "duration": 0.033302,
     "end_time": "2023-11-03T17:53:20.447938",
     "exception": false,
     "start_time": "2023-11-03T17:53:20.414636",
     "status": "completed"
    },
    "tags": []
   },
   "outputs": [
    {
     "data": {
      "text/plain": [
       "(59794, 100)"
      ]
     },
     "execution_count": 34,
     "metadata": {},
     "output_type": "execute_result"
    }
   ],
   "source": [
    "embedding_matrix.shape"
   ]
  },
  {
   "cell_type": "markdown",
   "id": "04658971",
   "metadata": {
    "id": "OW-AbfS3jNy_",
    "papermill": {
     "duration": 0.024287,
     "end_time": "2023-11-03T17:53:20.496276",
     "exception": false,
     "start_time": "2023-11-03T17:53:20.471989",
     "status": "completed"
    },
    "tags": []
   },
   "source": [
    "# Model Training with:"
   ]
  },
  {
   "cell_type": "markdown",
   "id": "07c8e7d0",
   "metadata": {
    "papermill": {
     "duration": 0.023654,
     "end_time": "2023-11-03T17:53:20.544259",
     "exception": false,
     "start_time": "2023-11-03T17:53:20.520605",
     "status": "completed"
    },
    "tags": []
   },
   "source": [
    "## Simple Neural Network"
   ]
  },
  {
   "cell_type": "code",
   "execution_count": 35,
   "id": "27001d41",
   "metadata": {
    "execution": {
     "iopub.execute_input": "2023-11-03T17:53:20.596000Z",
     "iopub.status.busy": "2023-11-03T17:53:20.595104Z",
     "iopub.status.idle": "2023-11-03T17:53:20.839187Z",
     "shell.execute_reply": "2023-11-03T17:53:20.838365Z"
    },
    "papermill": {
     "duration": 0.271338,
     "end_time": "2023-11-03T17:53:20.841625",
     "exception": false,
     "start_time": "2023-11-03T17:53:20.570287",
     "status": "completed"
    },
    "tags": []
   },
   "outputs": [],
   "source": [
    "snn_model = Sequential()\n",
    "embedding_layer = Embedding(vocab_length, 100, weights=[embedding_matrix], input_length=maxlen , trainable=False)\n",
    "\n",
    "snn_model.add(embedding_layer)\n",
    "\n",
    "snn_model.add(Flatten())\n",
    "snn_model.add(Dense(1, activation='sigmoid'))"
   ]
  },
  {
   "cell_type": "code",
   "execution_count": 36,
   "id": "ac298097",
   "metadata": {
    "execution": {
     "iopub.execute_input": "2023-11-03T17:53:20.893919Z",
     "iopub.status.busy": "2023-11-03T17:53:20.893296Z",
     "iopub.status.idle": "2023-11-03T17:53:20.923326Z",
     "shell.execute_reply": "2023-11-03T17:53:20.922379Z"
    },
    "papermill": {
     "duration": 0.061044,
     "end_time": "2023-11-03T17:53:20.928323",
     "exception": false,
     "start_time": "2023-11-03T17:53:20.867279",
     "status": "completed"
    },
    "tags": []
   },
   "outputs": [
    {
     "name": "stdout",
     "output_type": "stream",
     "text": [
      "Model: \"sequential\"\n",
      "_________________________________________________________________\n",
      " Layer (type)                Output Shape              Param #   \n",
      "=================================================================\n",
      " embedding (Embedding)       (None, 100, 100)          5979400   \n",
      "                                                                 \n",
      " flatten (Flatten)           (None, 10000)             0         \n",
      "                                                                 \n",
      " dense (Dense)               (None, 1)                 10001     \n",
      "                                                                 \n",
      "=================================================================\n",
      "Total params: 5,989,401\n",
      "Trainable params: 10,001\n",
      "Non-trainable params: 5,979,400\n",
      "_________________________________________________________________\n",
      "None\n"
     ]
    }
   ],
   "source": [
    "snn_model.compile(optimizer='adam', loss='binary_crossentropy', metrics=['acc'])\n",
    "\n",
    "print(snn_model.summary())"
   ]
  },
  {
   "cell_type": "code",
   "execution_count": 37,
   "id": "89f9c7d0",
   "metadata": {
    "execution": {
     "iopub.execute_input": "2023-11-03T17:53:20.979114Z",
     "iopub.status.busy": "2023-11-03T17:53:20.978807Z",
     "iopub.status.idle": "2023-11-03T17:54:44.905497Z",
     "shell.execute_reply": "2023-11-03T17:54:44.904402Z"
    },
    "papermill": {
     "duration": 83.954512,
     "end_time": "2023-11-03T17:54:44.907758",
     "exception": false,
     "start_time": "2023-11-03T17:53:20.953246",
     "status": "completed"
    },
    "tags": []
   },
   "outputs": [
    {
     "name": "stdout",
     "output_type": "stream",
     "text": [
      "Epoch 1/20\n",
      "1138/1138 [==============================] - 9s 4ms/step - loss: 0.4839 - acc: 0.7667 - val_loss: 0.4677 - val_acc: 0.7747\n",
      "Epoch 2/20\n",
      "1138/1138 [==============================] - 4s 3ms/step - loss: 0.4511 - acc: 0.7869 - val_loss: 0.4732 - val_acc: 0.7747\n",
      "Epoch 3/20\n",
      "1138/1138 [==============================] - 4s 3ms/step - loss: 0.4442 - acc: 0.7903 - val_loss: 0.4720 - val_acc: 0.7780\n",
      "Epoch 4/20\n",
      "1138/1138 [==============================] - 4s 3ms/step - loss: 0.4409 - acc: 0.7917 - val_loss: 0.4766 - val_acc: 0.7785\n",
      "Epoch 5/20\n",
      "1138/1138 [==============================] - 4s 3ms/step - loss: 0.4378 - acc: 0.7937 - val_loss: 0.4774 - val_acc: 0.7768\n",
      "Epoch 6/20\n",
      "1138/1138 [==============================] - 4s 3ms/step - loss: 0.4359 - acc: 0.7944 - val_loss: 0.4823 - val_acc: 0.7769\n",
      "Epoch 7/20\n",
      "1138/1138 [==============================] - 4s 4ms/step - loss: 0.4344 - acc: 0.7953 - val_loss: 0.4867 - val_acc: 0.7730\n",
      "Epoch 8/20\n",
      "1138/1138 [==============================] - 4s 4ms/step - loss: 0.4335 - acc: 0.7956 - val_loss: 0.4987 - val_acc: 0.7680\n",
      "Epoch 9/20\n",
      "1138/1138 [==============================] - 4s 3ms/step - loss: 0.4324 - acc: 0.7954 - val_loss: 0.4906 - val_acc: 0.7761\n",
      "Epoch 10/20\n",
      "1138/1138 [==============================] - 4s 3ms/step - loss: 0.4312 - acc: 0.7971 - val_loss: 0.4904 - val_acc: 0.7752\n",
      "Epoch 11/20\n",
      "1138/1138 [==============================] - 4s 3ms/step - loss: 0.4302 - acc: 0.7976 - val_loss: 0.4947 - val_acc: 0.7757\n",
      "Epoch 12/20\n",
      "1138/1138 [==============================] - 4s 3ms/step - loss: 0.4299 - acc: 0.7974 - val_loss: 0.4957 - val_acc: 0.7748\n",
      "Epoch 13/20\n",
      "1138/1138 [==============================] - 4s 3ms/step - loss: 0.4294 - acc: 0.7979 - val_loss: 0.5004 - val_acc: 0.7711\n",
      "Epoch 14/20\n",
      "1138/1138 [==============================] - 4s 3ms/step - loss: 0.4291 - acc: 0.7979 - val_loss: 0.4993 - val_acc: 0.7740\n",
      "Epoch 15/20\n",
      "1138/1138 [==============================] - 4s 3ms/step - loss: 0.4286 - acc: 0.7986 - val_loss: 0.5007 - val_acc: 0.7746\n",
      "Epoch 16/20\n",
      "1138/1138 [==============================] - 4s 4ms/step - loss: 0.4281 - acc: 0.7981 - val_loss: 0.5042 - val_acc: 0.7763\n",
      "Epoch 17/20\n",
      "1138/1138 [==============================] - 4s 3ms/step - loss: 0.4273 - acc: 0.7991 - val_loss: 0.5039 - val_acc: 0.7732\n",
      "Epoch 18/20\n",
      "1138/1138 [==============================] - 4s 3ms/step - loss: 0.4268 - acc: 0.7990 - val_loss: 0.5050 - val_acc: 0.7732\n",
      "Epoch 19/20\n",
      "1138/1138 [==============================] - 4s 3ms/step - loss: 0.4264 - acc: 0.7993 - val_loss: 0.5277 - val_acc: 0.7608\n",
      "Epoch 20/20\n",
      "1138/1138 [==============================] - 4s 3ms/step - loss: 0.4268 - acc: 0.7991 - val_loss: 0.5087 - val_acc: 0.7717\n"
     ]
    }
   ],
   "source": [
    "snn_model_history = snn_model.fit(X_train, y_train, batch_size=128, epochs=20, verbose=1, validation_split=0.3)"
   ]
  },
  {
   "cell_type": "code",
   "execution_count": 38,
   "id": "b9f6d9da",
   "metadata": {
    "execution": {
     "iopub.execute_input": "2023-11-03T17:54:45.152265Z",
     "iopub.status.busy": "2023-11-03T17:54:45.151867Z",
     "iopub.status.idle": "2023-11-03T17:54:48.759350Z",
     "shell.execute_reply": "2023-11-03T17:54:48.758145Z"
    },
    "papermill": {
     "duration": 3.733732,
     "end_time": "2023-11-03T17:54:48.761514",
     "exception": false,
     "start_time": "2023-11-03T17:54:45.027782",
     "status": "completed"
    },
    "tags": []
   },
   "outputs": [
    {
     "name": "stdout",
     "output_type": "stream",
     "text": [
      "1625/1625 [==============================] - 4s 2ms/step - loss: 0.5041 - acc: 0.7751\n"
     ]
    }
   ],
   "source": [
    "score = snn_model.evaluate(X_test, y_test, verbose=1)"
   ]
  },
  {
   "cell_type": "code",
   "execution_count": 39,
   "id": "76c0834f",
   "metadata": {
    "execution": {
     "iopub.execute_input": "2023-11-03T17:54:49.020983Z",
     "iopub.status.busy": "2023-11-03T17:54:49.020636Z",
     "iopub.status.idle": "2023-11-03T17:54:49.025672Z",
     "shell.execute_reply": "2023-11-03T17:54:49.024788Z"
    },
    "papermill": {
     "duration": 0.132054,
     "end_time": "2023-11-03T17:54:49.027847",
     "exception": false,
     "start_time": "2023-11-03T17:54:48.895793",
     "status": "completed"
    },
    "tags": []
   },
   "outputs": [
    {
     "name": "stdout",
     "output_type": "stream",
     "text": [
      "Test Score: 0.5041202902793884\n",
      "Test Accuracy: 0.7751346230506897\n"
     ]
    }
   ],
   "source": [
    "print(\"Test Score:\", score[0])\n",
    "print(\"Test Accuracy:\", score[1])"
   ]
  },
  {
   "cell_type": "code",
   "execution_count": 40,
   "id": "f73b79b2",
   "metadata": {
    "execution": {
     "iopub.execute_input": "2023-11-03T17:54:49.283268Z",
     "iopub.status.busy": "2023-11-03T17:54:49.282509Z",
     "iopub.status.idle": "2023-11-03T17:54:49.847414Z",
     "shell.execute_reply": "2023-11-03T17:54:49.846486Z"
    },
    "papermill": {
     "duration": 0.694085,
     "end_time": "2023-11-03T17:54:49.849687",
     "exception": false,
     "start_time": "2023-11-03T17:54:49.155602",
     "status": "completed"
    },
    "tags": []
   },
   "outputs": [
    {
     "data": {
      "image/png": "[encoded data removed]",
      "text/plain": [
       "<Figure size 640x480 with 1 Axes>"
      ]
     },
     "metadata": {},
     "output_type": "display_data"
    },
    {
     "data": {
      "image/png": "[encoded data removed]",
      "text/plain": [
       "<Figure size 640x480 with 1 Axes>"
      ]
     },
     "metadata": {},
     "output_type": "display_data"
    }
   ],
   "source": [
    "import matplotlib.pyplot as plt\n",
    "\n",
    "plt.plot(snn_model_history.history['acc'])\n",
    "plt.plot(snn_model_history.history['val_acc'])\n",
    "\n",
    "plt.title('model accuracy')\n",
    "plt.ylabel('accuracy')\n",
    "plt.xlabel('epoch')\n",
    "plt.legend(['train','test'], loc='upper left')\n",
    "plt.show()\n",
    "\n",
    "plt.plot(snn_model_history.history['loss'])\n",
    "plt.plot(snn_model_history.history['val_loss'])\n",
    "\n",
    "plt.title('model loss')\n",
    "plt.ylabel('loss')\n",
    "plt.xlabel('epoch')\n",
    "plt.legend(['train','test'], loc='upper left')\n",
    "plt.show()"
   ]
  },
  {
   "cell_type": "markdown",
   "id": "a3a426c5",
   "metadata": {
    "papermill": {
     "duration": 0.124883,
     "end_time": "2023-11-03T17:54:50.099432",
     "exception": false,
     "start_time": "2023-11-03T17:54:49.974549",
     "status": "completed"
    },
    "tags": []
   },
   "source": [
    "## Convolutional Neural Network"
   ]
  },
  {
   "cell_type": "code",
   "execution_count": 41,
   "id": "b3fcd107",
   "metadata": {
    "execution": {
     "iopub.execute_input": "2023-11-03T17:54:50.363471Z",
     "iopub.status.busy": "2023-11-03T17:54:50.362652Z",
     "iopub.status.idle": "2023-11-03T17:54:50.367494Z",
     "shell.execute_reply": "2023-11-03T17:54:50.366546Z"
    },
    "papermill": {
     "duration": 0.139007,
     "end_time": "2023-11-03T17:54:50.369666",
     "exception": false,
     "start_time": "2023-11-03T17:54:50.230659",
     "status": "completed"
    },
    "tags": []
   },
   "outputs": [],
   "source": [
    "from keras.layers import Conv1D"
   ]
  },
  {
   "cell_type": "code",
   "execution_count": 42,
   "id": "41318616",
   "metadata": {
    "execution": {
     "iopub.execute_input": "2023-11-03T17:54:50.623816Z",
     "iopub.status.busy": "2023-11-03T17:54:50.623106Z",
     "iopub.status.idle": "2023-11-03T17:54:50.708398Z",
     "shell.execute_reply": "2023-11-03T17:54:50.707587Z"
    },
    "papermill": {
     "duration": 0.214933,
     "end_time": "2023-11-03T17:54:50.710750",
     "exception": false,
     "start_time": "2023-11-03T17:54:50.495817",
     "status": "completed"
    },
    "tags": []
   },
   "outputs": [],
   "source": [
    "cnn_model = Sequential()\n",
    "\n",
    "embedding_layer = Embedding(vocab_length, 100, weights=[embedding_matrix], input_length=maxlen , trainable=False)\n",
    "cnn_model.add(embedding_layer)\n",
    "\n",
    "cnn_model.add(Conv1D(128, 5, activation='relu'))\n",
    "cnn_model.add(GlobalMaxPooling1D())\n",
    "cnn_model.add(Dense(1, activation='sigmoid'))"
   ]
  },
  {
   "cell_type": "code",
   "execution_count": 43,
   "id": "ad59d249",
   "metadata": {
    "execution": {
     "iopub.execute_input": "2023-11-03T17:54:50.967014Z",
     "iopub.status.busy": "2023-11-03T17:54:50.966312Z",
     "iopub.status.idle": "2023-11-03T17:54:50.992762Z",
     "shell.execute_reply": "2023-11-03T17:54:50.991672Z"
    },
    "papermill": {
     "duration": 0.16057,
     "end_time": "2023-11-03T17:54:50.998624",
     "exception": false,
     "start_time": "2023-11-03T17:54:50.838054",
     "status": "completed"
    },
    "tags": []
   },
   "outputs": [
    {
     "name": "stdout",
     "output_type": "stream",
     "text": [
      "Model: \"sequential_1\"\n",
      "_________________________________________________________________\n",
      " Layer (type)                Output Shape              Param #   \n",
      "=================================================================\n",
      " embedding_1 (Embedding)     (None, 100, 100)          5979400   \n",
      "                                                                 \n",
      " conv1d (Conv1D)             (None, 96, 128)           64128     \n",
      "                                                                 \n",
      " global_max_pooling1d (Globa  (None, 128)              0         \n",
      " lMaxPooling1D)                                                  \n",
      "                                                                 \n",
      " dense_1 (Dense)             (None, 1)                 129       \n",
      "                                                                 \n",
      "=================================================================\n",
      "Total params: 6,043,657\n",
      "Trainable params: 64,257\n",
      "Non-trainable params: 5,979,400\n",
      "_________________________________________________________________\n",
      "None\n"
     ]
    }
   ],
   "source": [
    "cnn_model.compile(optimizer='adam', loss='binary_crossentropy', metrics=['acc'])\n",
    "print(cnn_model.summary())"
   ]
  },
  {
   "cell_type": "code",
   "execution_count": 44,
   "id": "2f726170",
   "metadata": {
    "execution": {
     "iopub.execute_input": "2023-11-03T17:54:51.256952Z",
     "iopub.status.busy": "2023-11-03T17:54:51.256116Z",
     "iopub.status.idle": "2023-11-03T17:56:45.730717Z",
     "shell.execute_reply": "2023-11-03T17:56:45.729723Z"
    },
    "papermill": {
     "duration": 114.606222,
     "end_time": "2023-11-03T17:56:45.733326",
     "exception": false,
     "start_time": "2023-11-03T17:54:51.127104",
     "status": "completed"
    },
    "tags": []
   },
   "outputs": [
    {
     "name": "stdout",
     "output_type": "stream",
     "text": [
      "Epoch 1/20\n",
      "1138/1138 [==============================] - 12s 5ms/step - loss: 0.4556 - acc: 0.7844 - val_loss: 0.4313 - val_acc: 0.8008\n",
      "Epoch 2/20\n",
      "1138/1138 [==============================] - 5s 5ms/step - loss: 0.4069 - acc: 0.8134 - val_loss: 0.4300 - val_acc: 0.8006\n",
      "Epoch 3/20\n",
      "1138/1138 [==============================] - 5s 5ms/step - loss: 0.3783 - acc: 0.8306 - val_loss: 0.4259 - val_acc: 0.8048\n",
      "Epoch 4/20\n",
      "1138/1138 [==============================] - 5s 5ms/step - loss: 0.3540 - acc: 0.8441 - val_loss: 0.4349 - val_acc: 0.8007\n",
      "Epoch 5/20\n",
      "1138/1138 [==============================] - 5s 5ms/step - loss: 0.3315 - acc: 0.8551 - val_loss: 0.4524 - val_acc: 0.7943\n",
      "Epoch 6/20\n",
      "1138/1138 [==============================] - 6s 5ms/step - loss: 0.3099 - acc: 0.8670 - val_loss: 0.4545 - val_acc: 0.7967\n",
      "Epoch 7/20\n",
      "1138/1138 [==============================] - 5s 5ms/step - loss: 0.2934 - acc: 0.8759 - val_loss: 0.4958 - val_acc: 0.7818\n",
      "Epoch 8/20\n",
      "1138/1138 [==============================] - 5s 5ms/step - loss: 0.2764 - acc: 0.8846 - val_loss: 0.4855 - val_acc: 0.7928\n",
      "Epoch 9/20\n",
      "1138/1138 [==============================] - 5s 5ms/step - loss: 0.2608 - acc: 0.8925 - val_loss: 0.5194 - val_acc: 0.7846\n",
      "Epoch 10/20\n",
      "1138/1138 [==============================] - 5s 5ms/step - loss: 0.2487 - acc: 0.8984 - val_loss: 0.5189 - val_acc: 0.7846\n",
      "Epoch 11/20\n",
      "1138/1138 [==============================] - 5s 5ms/step - loss: 0.2345 - acc: 0.9052 - val_loss: 0.5424 - val_acc: 0.7866\n",
      "Epoch 12/20\n",
      "1138/1138 [==============================] - 5s 5ms/step - loss: 0.2253 - acc: 0.9079 - val_loss: 0.5589 - val_acc: 0.7827\n",
      "Epoch 13/20\n",
      "1138/1138 [==============================] - 5s 5ms/step - loss: 0.2123 - acc: 0.9153 - val_loss: 0.5772 - val_acc: 0.7799\n",
      "Epoch 14/20\n",
      "1138/1138 [==============================] - 5s 5ms/step - loss: 0.2039 - acc: 0.9194 - val_loss: 0.5983 - val_acc: 0.7817\n",
      "Epoch 15/20\n",
      "1138/1138 [==============================] - 5s 5ms/step - loss: 0.1941 - acc: 0.9237 - val_loss: 0.6272 - val_acc: 0.7786\n",
      "Epoch 16/20\n",
      "1138/1138 [==============================] - 5s 5ms/step - loss: 0.1857 - acc: 0.9273 - val_loss: 0.6518 - val_acc: 0.7710\n",
      "Epoch 17/20\n",
      "1138/1138 [==============================] - 5s 5ms/step - loss: 0.1760 - acc: 0.9320 - val_loss: 0.7081 - val_acc: 0.7662\n",
      "Epoch 18/20\n",
      "1138/1138 [==============================] - 6s 5ms/step - loss: 0.1704 - acc: 0.9340 - val_loss: 0.6787 - val_acc: 0.7713\n",
      "Epoch 19/20\n",
      "1138/1138 [==============================] - 5s 5ms/step - loss: 0.1609 - acc: 0.9393 - val_loss: 0.7066 - val_acc: 0.7725\n",
      "Epoch 20/20\n",
      "1138/1138 [==============================] - 5s 5ms/step - loss: 0.1549 - acc: 0.9413 - val_loss: 0.8394 - val_acc: 0.7537\n"
     ]
    }
   ],
   "source": [
    "cnn_model_history = cnn_model.fit(X_train, y_train, batch_size=128, epochs=20, verbose=1, validation_split=0.3)"
   ]
  },
  {
   "cell_type": "code",
   "execution_count": 45,
   "id": "919969c4",
   "metadata": {
    "execution": {
     "iopub.execute_input": "2023-11-03T17:56:46.265638Z",
     "iopub.status.busy": "2023-11-03T17:56:46.265275Z",
     "iopub.status.idle": "2023-11-03T17:56:50.309939Z",
     "shell.execute_reply": "2023-11-03T17:56:50.309065Z"
    },
    "papermill": {
     "duration": 4.314602,
     "end_time": "2023-11-03T17:56:50.312059",
     "exception": false,
     "start_time": "2023-11-03T17:56:45.997457",
     "status": "completed"
    },
    "tags": []
   },
   "outputs": [
    {
     "name": "stdout",
     "output_type": "stream",
     "text": [
      "1625/1625 [==============================] - 4s 2ms/step - loss: 0.8454 - acc: 0.7523\n"
     ]
    }
   ],
   "source": [
    "score = cnn_model.evaluate(X_test, y_test, verbose=1)"
   ]
  },
  {
   "cell_type": "code",
   "execution_count": 46,
   "id": "ece6c3a3",
   "metadata": {
    "execution": {
     "iopub.execute_input": "2023-11-03T17:56:50.869373Z",
     "iopub.status.busy": "2023-11-03T17:56:50.868978Z",
     "iopub.status.idle": "2023-11-03T17:56:50.873990Z",
     "shell.execute_reply": "2023-11-03T17:56:50.873061Z"
    },
    "papermill": {
     "duration": 0.279909,
     "end_time": "2023-11-03T17:56:50.876675",
     "exception": false,
     "start_time": "2023-11-03T17:56:50.596766",
     "status": "completed"
    },
    "tags": []
   },
   "outputs": [
    {
     "name": "stdout",
     "output_type": "stream",
     "text": [
      "Test Score: 0.8454064726829529\n",
      "Test Accuracy: 0.7522692084312439\n"
     ]
    }
   ],
   "source": [
    "print(\"Test Score:\", score[0])\n",
    "print(\"Test Accuracy:\", score[1])"
   ]
  },
  {
   "cell_type": "code",
   "execution_count": 47,
   "id": "df0ce7c4",
   "metadata": {
    "execution": {
     "iopub.execute_input": "2023-11-03T17:56:51.430521Z",
     "iopub.status.busy": "2023-11-03T17:56:51.430128Z",
     "iopub.status.idle": "2023-11-03T17:56:52.027443Z",
     "shell.execute_reply": "2023-11-03T17:56:52.026402Z"
    },
    "papermill": {
     "duration": 0.877516,
     "end_time": "2023-11-03T17:56:52.029820",
     "exception": false,
     "start_time": "2023-11-03T17:56:51.152304",
     "status": "completed"
    },
    "tags": []
   },
   "outputs": [
    {
     "data": {
      "image/png": "[encoded data removed]",
      "text/plain": [
       "<Figure size 640x480 with 1 Axes>"
      ]
     },
     "metadata": {},
     "output_type": "display_data"
    },
    {
     "data": {
      "image/png": "[encoded data removed]",
      "text/plain": [
       "<Figure size 640x480 with 1 Axes>"
      ]
     },
     "metadata": {},
     "output_type": "display_data"
    }
   ],
   "source": [
    "import matplotlib.pyplot as plt\n",
    "\n",
    "plt.plot(cnn_model_history.history['acc'])\n",
    "plt.plot(cnn_model_history.history['val_acc'])\n",
    "\n",
    "plt.title('model accuracy')\n",
    "plt.ylabel('accuracy')\n",
    "plt.xlabel('epoch')\n",
    "plt.legend(['train','test'], loc = 'upper left')\n",
    "plt.show()\n",
    "\n",
    "plt.plot(cnn_model_history.history['loss'])\n",
    "plt.plot(cnn_model_history.history['val_loss'])\n",
    "\n",
    "plt.title('model loss')\n",
    "plt.ylabel('loss')\n",
    "plt.xlabel('epoch')\n",
    "plt.legend(['train','test'], loc = 'upper left')\n",
    "plt.show()"
   ]
  },
  {
   "cell_type": "markdown",
   "id": "d9584fa4",
   "metadata": {
    "id": "2QTts_XPS1Wn",
    "papermill": {
     "duration": 0.282827,
     "end_time": "2023-11-03T17:56:52.599032",
     "exception": false,
     "start_time": "2023-11-03T17:56:52.316205",
     "status": "completed"
    },
    "tags": []
   },
   "source": [
    "## Recurrent Neural Network (LSTM)"
   ]
  },
  {
   "cell_type": "code",
   "execution_count": 48,
   "id": "95a6366c",
   "metadata": {
    "execution": {
     "iopub.execute_input": "2023-11-03T17:56:53.217970Z",
     "iopub.status.busy": "2023-11-03T17:56:53.217057Z",
     "iopub.status.idle": "2023-11-03T17:56:53.221872Z",
     "shell.execute_reply": "2023-11-03T17:56:53.220932Z"
    },
    "id": "1iLtWqoMVwU5",
    "papermill": {
     "duration": 0.28626,
     "end_time": "2023-11-03T17:56:53.223903",
     "exception": false,
     "start_time": "2023-11-03T17:56:52.937643",
     "status": "completed"
    },
    "tags": []
   },
   "outputs": [],
   "source": [
    "from keras.layers import LSTM"
   ]
  },
  {
   "cell_type": "code",
   "execution_count": 49,
   "id": "30ea44f7",
   "metadata": {
    "execution": {
     "iopub.execute_input": "2023-11-03T17:56:53.779961Z",
     "iopub.status.busy": "2023-11-03T17:56:53.779553Z",
     "iopub.status.idle": "2023-11-03T17:56:54.101116Z",
     "shell.execute_reply": "2023-11-03T17:56:54.100305Z"
    },
    "id": "0ccqZ-8kS2el",
    "papermill": {
     "duration": 0.605719,
     "end_time": "2023-11-03T17:56:54.103491",
     "exception": false,
     "start_time": "2023-11-03T17:56:53.497772",
     "status": "completed"
    },
    "tags": []
   },
   "outputs": [],
   "source": [
    "from tensorflow.keras.layers import Dropout\n",
    "\n",
    "lstm_model = Sequential()\n",
    "embedding_layer = Embedding(vocab_length, 100, weights=[embedding_matrix], input_length=maxlen , trainable=False)\n",
    "\n",
    "lstm_model.add(embedding_layer)\n",
    "lstm_model.add(LSTM(20))\n",
    "lstm_model.add(Dropout(0.1))\n",
    "\n",
    "lstm_model.add(Dense(1, activation='sigmoid'))"
   ]
  },
  {
   "cell_type": "code",
   "execution_count": 50,
   "id": "385584e0",
   "metadata": {
    "execution": {
     "iopub.execute_input": "2023-11-03T17:56:54.666050Z",
     "iopub.status.busy": "2023-11-03T17:56:54.665671Z",
     "iopub.status.idle": "2023-11-03T17:56:54.695041Z",
     "shell.execute_reply": "2023-11-03T17:56:54.693904Z"
    },
    "executionInfo": {
     "elapsed": 15,
     "status": "ok",
     "timestamp": 1658849861395,
     "user": {
      "displayName": "Skillcate Education",
      "userId": "11062674699417926870"
     },
     "user_tz": -330
    },
    "id": "Zk00Ss9HS68g",
    "outputId": "efcccbd5-f0b8-499a-c9e4-6c1318445699",
    "papermill": {
     "duration": 0.314468,
     "end_time": "2023-11-03T17:56:54.700811",
     "exception": false,
     "start_time": "2023-11-03T17:56:54.386343",
     "status": "completed"
    },
    "tags": []
   },
   "outputs": [
    {
     "name": "stdout",
     "output_type": "stream",
     "text": [
      "Model: \"sequential_2\"\n",
      "_________________________________________________________________\n",
      " Layer (type)                Output Shape              Param #   \n",
      "=================================================================\n",
      " embedding_2 (Embedding)     (None, 100, 100)          5979400   \n",
      "                                                                 \n",
      " lstm (LSTM)                 (None, 20)                9680      \n",
      "                                                                 \n",
      " dropout (Dropout)           (None, 20)                0         \n",
      "                                                                 \n",
      " dense_2 (Dense)             (None, 1)                 21        \n",
      "                                                                 \n",
      "=================================================================\n",
      "Total params: 5,989,101\n",
      "Trainable params: 9,701\n",
      "Non-trainable params: 5,979,400\n",
      "_________________________________________________________________\n",
      "None\n"
     ]
    }
   ],
   "source": [
    "from tensorflow.keras.optimizers import Adam\n",
    "adam_optimizer = Adam(clipvalue=4.0)\n",
    "lstm_model.compile(optimizer=adam_optimizer, loss='binary_crossentropy', metrics=['acc'])\n",
    "print(lstm_model.summary())"
   ]
  },
  {
   "cell_type": "code",
   "execution_count": 51,
   "id": "428e06be",
   "metadata": {
    "execution": {
     "iopub.execute_input": "2023-11-03T17:56:55.254525Z",
     "iopub.status.busy": "2023-11-03T17:56:55.253781Z",
     "iopub.status.idle": "2023-11-03T17:59:57.723463Z",
     "shell.execute_reply": "2023-11-03T17:59:57.722400Z"
    },
    "executionInfo": {
     "elapsed": 503790,
     "status": "ok",
     "timestamp": 1658850365177,
     "user": {
      "displayName": "Skillcate Education",
      "userId": "11062674699417926870"
     },
     "user_tz": -330
    },
    "id": "QMhhaZUaS9jF",
    "outputId": "e5053dcc-35a9-4a3e-92bb-3515795ee0c7",
    "papermill": {
     "duration": 182.750773,
     "end_time": "2023-11-03T17:59:57.725678",
     "exception": false,
     "start_time": "2023-11-03T17:56:54.974905",
     "status": "completed"
    },
    "tags": []
   },
   "outputs": [
    {
     "name": "stdout",
     "output_type": "stream",
     "text": [
      "Epoch 1/20\n",
      "1138/1138 [==============================] - 13s 8ms/step - loss: 0.5122 - acc: 0.7535 - val_loss: 0.4493 - val_acc: 0.7913\n",
      "Epoch 2/20\n",
      "1138/1138 [==============================] - 9s 8ms/step - loss: 0.4400 - acc: 0.7967 - val_loss: 0.4323 - val_acc: 0.8006\n",
      "Epoch 3/20\n",
      "1138/1138 [==============================] - 9s 8ms/step - loss: 0.4258 - acc: 0.8046 - val_loss: 0.4258 - val_acc: 0.8034\n",
      "Epoch 4/20\n",
      "1138/1138 [==============================] - 9s 8ms/step - loss: 0.4179 - acc: 0.8089 - val_loss: 0.4349 - val_acc: 0.8084\n",
      "Epoch 5/20\n",
      "1138/1138 [==============================] - 9s 8ms/step - loss: 0.4104 - acc: 0.8124 - val_loss: 0.4309 - val_acc: 0.8068\n",
      "Epoch 6/20\n",
      "1138/1138 [==============================] - 9s 8ms/step - loss: 0.4070 - acc: 0.8141 - val_loss: 0.4108 - val_acc: 0.8113\n",
      "Epoch 7/20\n",
      "1138/1138 [==============================] - 9s 8ms/step - loss: 0.4026 - acc: 0.8165 - val_loss: 0.4111 - val_acc: 0.8134\n",
      "Epoch 8/20\n",
      "1138/1138 [==============================] - 9s 8ms/step - loss: 0.3993 - acc: 0.8182 - val_loss: 0.4132 - val_acc: 0.8112\n",
      "Epoch 9/20\n",
      "1138/1138 [==============================] - 9s 8ms/step - loss: 0.3965 - acc: 0.8202 - val_loss: 0.4185 - val_acc: 0.8142\n",
      "Epoch 10/20\n",
      "1138/1138 [==============================] - 9s 8ms/step - loss: 0.3935 - acc: 0.8212 - val_loss: 0.4160 - val_acc: 0.8117\n",
      "Epoch 11/20\n",
      "1138/1138 [==============================] - 9s 8ms/step - loss: 0.3907 - acc: 0.8226 - val_loss: 0.4086 - val_acc: 0.8158\n",
      "Epoch 12/20\n",
      "1138/1138 [==============================] - 9s 8ms/step - loss: 0.3877 - acc: 0.8232 - val_loss: 0.4058 - val_acc: 0.8136\n",
      "Epoch 13/20\n",
      "1138/1138 [==============================] - 9s 8ms/step - loss: 0.3868 - acc: 0.8234 - val_loss: 0.4118 - val_acc: 0.8125\n",
      "Epoch 14/20\n",
      "1138/1138 [==============================] - 9s 8ms/step - loss: 0.3843 - acc: 0.8253 - val_loss: 0.4067 - val_acc: 0.8157\n",
      "Epoch 15/20\n",
      "1138/1138 [==============================] - 9s 8ms/step - loss: 0.3826 - acc: 0.8266 - val_loss: 0.4071 - val_acc: 0.8108\n",
      "Epoch 16/20\n",
      "1138/1138 [==============================] - 9s 8ms/step - loss: 0.3811 - acc: 0.8261 - val_loss: 0.4147 - val_acc: 0.8159\n",
      "Epoch 17/20\n",
      "1138/1138 [==============================] - 9s 8ms/step - loss: 0.3795 - acc: 0.8278 - val_loss: 0.4074 - val_acc: 0.8149\n",
      "Epoch 18/20\n",
      "1138/1138 [==============================] - 9s 8ms/step - loss: 0.3779 - acc: 0.8286 - val_loss: 0.4125 - val_acc: 0.8097\n",
      "Epoch 19/20\n",
      "1138/1138 [==============================] - 9s 8ms/step - loss: 0.3765 - acc: 0.8288 - val_loss: 0.4023 - val_acc: 0.8160\n",
      "Epoch 20/20\n",
      "1138/1138 [==============================] - 9s 8ms/step - loss: 0.3755 - acc: 0.8297 - val_loss: 0.4141 - val_acc: 0.8102\n"
     ]
    }
   ],
   "source": [
    "lstm_model_history = lstm_model.fit(X_train, y_train, batch_size=128, epochs=20, verbose=1, validation_split=0.3)"
   ]
  },
  {
   "cell_type": "code",
   "execution_count": 52,
   "id": "c035d30a",
   "metadata": {
    "execution": {
     "iopub.execute_input": "2023-11-03T17:59:58.759603Z",
     "iopub.status.busy": "2023-11-03T17:59:58.758872Z",
     "iopub.status.idle": "2023-11-03T18:00:05.000600Z",
     "shell.execute_reply": "2023-11-03T18:00:04.999715Z"
    },
    "executionInfo": {
     "elapsed": 20819,
     "status": "ok",
     "timestamp": 1658850385975,
     "user": {
      "displayName": "Skillcate Education",
      "userId": "11062674699417926870"
     },
     "user_tz": -330
    },
    "id": "w7il9EjzlAaR",
    "outputId": "dba86dd6-0380-4a7e-c592-cd9815155ab4",
    "papermill": {
     "duration": 6.781535,
     "end_time": "2023-11-03T18:00:05.002655",
     "exception": false,
     "start_time": "2023-11-03T17:59:58.221120",
     "status": "completed"
    },
    "tags": []
   },
   "outputs": [
    {
     "name": "stdout",
     "output_type": "stream",
     "text": [
      "1625/1625 [==============================] - 6s 4ms/step - loss: 0.4132 - acc: 0.8107\n"
     ]
    }
   ],
   "source": [
    "score = lstm_model.evaluate(X_test, y_test, verbose=1)"
   ]
  },
  {
   "cell_type": "code",
   "execution_count": 53,
   "id": "66cf6bd9",
   "metadata": {
    "execution": {
     "iopub.execute_input": "2023-11-03T18:00:06.014384Z",
     "iopub.status.busy": "2023-11-03T18:00:06.013769Z",
     "iopub.status.idle": "2023-11-03T18:00:06.018755Z",
     "shell.execute_reply": "2023-11-03T18:00:06.017833Z"
    },
    "executionInfo": {
     "elapsed": 9,
     "status": "ok",
     "timestamp": 1658850385977,
     "user": {
      "displayName": "Skillcate Education",
      "userId": "11062674699417926870"
     },
     "user_tz": -330
    },
    "id": "6j71n54zS9mc",
    "outputId": "f5c2d7be-beb5-47cb-8c1b-7db2784c2f66",
    "papermill": {
     "duration": 0.509631,
     "end_time": "2023-11-03T18:00:06.021399",
     "exception": false,
     "start_time": "2023-11-03T18:00:05.511768",
     "status": "completed"
    },
    "tags": []
   },
   "outputs": [
    {
     "name": "stdout",
     "output_type": "stream",
     "text": [
      "Test Score: 0.4131513237953186\n",
      "Test Accuracy: 0.8106538653373718\n"
     ]
    }
   ],
   "source": [
    "print(\"Test Score:\", score[0])\n",
    "print(\"Test Accuracy:\", score[1])"
   ]
  },
  {
   "cell_type": "code",
   "execution_count": 54,
   "id": "9822d566",
   "metadata": {
    "execution": {
     "iopub.execute_input": "2023-11-03T18:00:07.079949Z",
     "iopub.status.busy": "2023-11-03T18:00:07.079532Z",
     "iopub.status.idle": "2023-11-03T18:00:07.656353Z",
     "shell.execute_reply": "2023-11-03T18:00:07.655210Z"
    },
    "executionInfo": {
     "elapsed": 7,
     "status": "ok",
     "timestamp": 1658850385977,
     "user": {
      "displayName": "Skillcate Education",
      "userId": "11062674699417926870"
     },
     "user_tz": -330
    },
    "id": "LiibO1EuS9qB",
    "outputId": "a7691b0a-4eba-42c2-f934-a74d8bde2c7d",
    "papermill": {
     "duration": 1.133306,
     "end_time": "2023-11-03T18:00:07.658744",
     "exception": false,
     "start_time": "2023-11-03T18:00:06.525438",
     "status": "completed"
    },
    "tags": []
   },
   "outputs": [
    {
     "data": {
      "image/png": "[encoded data removed]",
      "text/plain": [
       "<Figure size 640x480 with 1 Axes>"
      ]
     },
     "metadata": {},
     "output_type": "display_data"
    },
    {
     "data": {
      "image/png": "[encoded data removed]",
      "text/plain": [
       "<Figure size 640x480 with 1 Axes>"
      ]
     },
     "metadata": {},
     "output_type": "display_data"
    }
   ],
   "source": [
    "import matplotlib.pyplot as plt\n",
    "\n",
    "plt.plot(lstm_model_history.history['acc'])\n",
    "plt.plot(lstm_model_history.history['val_acc'])\n",
    "\n",
    "plt.title('model accuracy')\n",
    "plt.ylabel('accuracy')\n",
    "plt.xlabel('epoch')\n",
    "plt.legend(['train','test'], loc='upper left')\n",
    "plt.show()\n",
    "\n",
    "plt.plot(lstm_model_history.history['loss'])\n",
    "plt.plot(lstm_model_history.history['val_loss'])\n",
    "\n",
    "plt.title('model loss')\n",
    "plt.ylabel('loss')\n",
    "plt.xlabel('epoch')\n",
    "plt.legend(['train','test'], loc='upper left')\n",
    "plt.show()"
   ]
  },
  {
   "cell_type": "code",
   "execution_count": 55,
   "id": "62fd291c",
   "metadata": {
    "execution": {
     "iopub.execute_input": "2023-11-03T18:00:08.681181Z",
     "iopub.status.busy": "2023-11-03T18:00:08.680811Z",
     "iopub.status.idle": "2023-11-03T18:00:08.750958Z",
     "shell.execute_reply": "2023-11-03T18:00:08.750134Z"
    },
    "id": "YwXAHNsnnSdw",
    "papermill": {
     "duration": 0.585264,
     "end_time": "2023-11-03T18:00:08.753385",
     "exception": false,
     "start_time": "2023-11-03T18:00:08.168121",
     "status": "completed"
    },
    "tags": []
   },
   "outputs": [],
   "source": [
    "lstm_model.save(\"/kaggle/working/sentiment_LSTM_model.keras\")"
   ]
  },
  {
   "cell_type": "markdown",
   "id": "432c68f7",
   "metadata": {
    "papermill": {
     "duration": 0.556713,
     "end_time": "2023-11-03T18:00:09.836777",
     "exception": false,
     "start_time": "2023-11-03T18:00:09.280064",
     "status": "completed"
    },
    "tags": []
   },
   "source": [
    "# Making Predictions"
   ]
  },
  {
   "cell_type": "code",
   "execution_count": 56,
   "id": "4a52ec01",
   "metadata": {
    "execution": {
     "iopub.execute_input": "2023-11-03T18:00:10.863797Z",
     "iopub.status.busy": "2023-11-03T18:00:10.863052Z",
     "iopub.status.idle": "2023-11-03T18:00:15.924833Z",
     "shell.execute_reply": "2023-11-03T18:00:15.923564Z"
    },
    "papermill": {
     "duration": 5.583721,
     "end_time": "2023-11-03T18:00:15.927041",
     "exception": false,
     "start_time": "2023-11-03T18:00:10.343320",
     "status": "completed"
    },
    "tags": []
   },
   "outputs": [
    {
     "name": "stdout",
     "output_type": "stream",
     "text": [
      "All columns : \n",
      "Index(['firm', 'date_review', 'job_title', 'current', 'location',\n",
      "       'overall_rating', 'work_life_balance', 'culture_values',\n",
      "       'diversity_inclusion', 'career_opp', 'comp_benefits', 'senior_mgmt',\n",
      "       'recommend', 'ceo_approv', 'outlook', 'headline', 'pros', 'cons'],\n",
      "      dtype='object')\n",
      "\n",
      "Removed columns : \n",
      "['date_review', 'job_title', 'current', 'location', 'work_life_balance', 'culture_values', 'diversity_inclusion', 'career_opp', 'comp_benefits', 'senior_mgmt', 'recommend', 'ceo_approv', 'outlook']\n",
      "\n",
      "Selected columns : \n",
      "Index(['firm', 'overall_rating', 'headline', 'pros', 'cons'], dtype='object')\n"
     ]
    }
   ],
   "source": [
    "df    = pd.read_csv('/kaggle/input/glassdoor-job-reviews/glassdoor_reviews.csv', sep=',', encoding='latin-1')\n",
    "print(\"All columns : \");\n",
    "print(df.columns);\n",
    "Notkeep = [d for d in df.columns if d not in ['overall_rating','headline','pros','cons','firm']]\n",
    "print(\"\\nRemoved columns : \");\n",
    "print(Notkeep);\n",
    "df    = df.drop(columns=Notkeep)\n",
    "print(\"\\nSelected columns : \");\n",
    "print(df.columns);"
   ]
  },
  {
   "cell_type": "code",
   "execution_count": 57,
   "id": "b121238e",
   "metadata": {
    "execution": {
     "iopub.execute_input": "2023-11-03T18:00:16.973330Z",
     "iopub.status.busy": "2023-11-03T18:00:16.972944Z",
     "iopub.status.idle": "2023-11-03T18:00:18.574996Z",
     "shell.execute_reply": "2023-11-03T18:00:18.574073Z"
    },
    "papermill": {
     "duration": 2.148075,
     "end_time": "2023-11-03T18:00:18.577052",
     "exception": false,
     "start_time": "2023-11-03T18:00:16.428977",
     "status": "completed"
    },
    "tags": []
   },
   "outputs": [
    {
     "data": {
      "text/html": [
       "<div>\n",
       "<style scoped>\n",
       "    .dataframe tbody tr th:only-of-type {\n",
       "        vertical-align: middle;\n",
       "    }\n",
       "\n",
       "    .dataframe tbody tr th {\n",
       "        vertical-align: top;\n",
       "    }\n",
       "\n",
       "    .dataframe thead th {\n",
       "        text-align: right;\n",
       "    }\n",
       "</style>\n",
       "<table border=\"1\" class=\"dataframe\">\n",
       "  <thead>\n",
       "    <tr style=\"text-align: right;\">\n",
       "      <th></th>\n",
       "      <th>firm</th>\n",
       "      <th>overall_rating</th>\n",
       "      <th>review</th>\n",
       "    </tr>\n",
       "  </thead>\n",
       "  <tbody>\n",
       "    <tr>\n",
       "      <th>0</th>\n",
       "      <td>AFH-Wealth-Management</td>\n",
       "      <td>2</td>\n",
       "      <td>Young colleagues, poor micro management. Very ...</td>\n",
       "    </tr>\n",
       "    <tr>\n",
       "      <th>1</th>\n",
       "      <td>AFH-Wealth-Management</td>\n",
       "      <td>2</td>\n",
       "      <td>Excellent staff, poor salary. Friendly, helpfu...</td>\n",
       "    </tr>\n",
       "    <tr>\n",
       "      <th>2</th>\n",
       "      <td>AFH-Wealth-Management</td>\n",
       "      <td>1</td>\n",
       "      <td>Low salary, bad micromanagement. Easy to get t...</td>\n",
       "    </tr>\n",
       "    <tr>\n",
       "      <th>3</th>\n",
       "      <td>AFH-Wealth-Management</td>\n",
       "      <td>5</td>\n",
       "      <td>Over promised under delivered. Nice staff to w...</td>\n",
       "    </tr>\n",
       "    <tr>\n",
       "      <th>4</th>\n",
       "      <td>AFH-Wealth-Management</td>\n",
       "      <td>1</td>\n",
       "      <td>client reporting admin. Easy to get the job, N...</td>\n",
       "    </tr>\n",
       "    <tr>\n",
       "      <th>...</th>\n",
       "      <td>...</td>\n",
       "      <td>...</td>\n",
       "      <td>...</td>\n",
       "    </tr>\n",
       "    <tr>\n",
       "      <th>838561</th>\n",
       "      <td>the-LEGO-Group</td>\n",
       "      <td>5</td>\n",
       "      <td>Just an awesome company to work for!!!. Great ...</td>\n",
       "    </tr>\n",
       "    <tr>\n",
       "      <th>838562</th>\n",
       "      <td>the-LEGO-Group</td>\n",
       "      <td>3</td>\n",
       "      <td>working at lego. staff discount is really nice...</td>\n",
       "    </tr>\n",
       "    <tr>\n",
       "      <th>838563</th>\n",
       "      <td>the-LEGO-Group</td>\n",
       "      <td>4</td>\n",
       "      <td>not interested in growing their people. loved ...</td>\n",
       "    </tr>\n",
       "    <tr>\n",
       "      <th>838564</th>\n",
       "      <td>the-LEGO-Group</td>\n",
       "      <td>5</td>\n",
       "      <td>Great Place to Work. Good wages, good hours, l...</td>\n",
       "    </tr>\n",
       "    <tr>\n",
       "      <th>838565</th>\n",
       "      <td>the-LEGO-Group</td>\n",
       "      <td>5</td>\n",
       "      <td>I strongly recommend the LEGO Group as employe...</td>\n",
       "    </tr>\n",
       "  </tbody>\n",
       "</table>\n",
       "<p>838566 rows × 3 columns</p>\n",
       "</div>"
      ],
      "text/plain": [
       "                         firm  overall_rating  \\\n",
       "0       AFH-Wealth-Management               2   \n",
       "1       AFH-Wealth-Management               2   \n",
       "2       AFH-Wealth-Management               1   \n",
       "3       AFH-Wealth-Management               5   \n",
       "4       AFH-Wealth-Management               1   \n",
       "...                       ...             ...   \n",
       "838561         the-LEGO-Group               5   \n",
       "838562         the-LEGO-Group               3   \n",
       "838563         the-LEGO-Group               4   \n",
       "838564         the-LEGO-Group               5   \n",
       "838565         the-LEGO-Group               5   \n",
       "\n",
       "                                                   review  \n",
       "0       Young colleagues, poor micro management. Very ...  \n",
       "1       Excellent staff, poor salary. Friendly, helpfu...  \n",
       "2       Low salary, bad micromanagement. Easy to get t...  \n",
       "3       Over promised under delivered. Nice staff to w...  \n",
       "4       client reporting admin. Easy to get the job, N...  \n",
       "...                                                   ...  \n",
       "838561  Just an awesome company to work for!!!. Great ...  \n",
       "838562  working at lego. staff discount is really nice...  \n",
       "838563  not interested in growing their people. loved ...  \n",
       "838564  Great Place to Work. Good wages, good hours, l...  \n",
       "838565  I strongly recommend the LEGO Group as employe...  \n",
       "\n",
       "[838566 rows x 3 columns]"
      ]
     },
     "execution_count": 57,
     "metadata": {},
     "output_type": "execute_result"
    }
   ],
   "source": [
    "df['review'] = df['headline']+'. '+df['pros']+'. '+df['cons'];\n",
    "df.drop(columns=['headline','pros','cons'], inplace=True)\n",
    "df"
   ]
  },
  {
   "cell_type": "code",
   "execution_count": 58,
   "id": "3edebd43",
   "metadata": {
    "execution": {
     "iopub.execute_input": "2023-11-03T18:00:19.594530Z",
     "iopub.status.busy": "2023-11-03T18:00:19.594141Z",
     "iopub.status.idle": "2023-11-03T18:00:19.770994Z",
     "shell.execute_reply": "2023-11-03T18:00:19.770131Z"
    },
    "papermill": {
     "duration": 0.684554,
     "end_time": "2023-11-03T18:00:19.773010",
     "exception": false,
     "start_time": "2023-11-03T18:00:19.088456",
     "status": "completed"
    },
    "tags": []
   },
   "outputs": [
    {
     "data": {
      "text/plain": [
       "firm                 0\n",
       "overall_rating       0\n",
       "review            2605\n",
       "dtype: int64"
      ]
     },
     "execution_count": 58,
     "metadata": {},
     "output_type": "execute_result"
    }
   ],
   "source": [
    "df.isna().sum()"
   ]
  },
  {
   "cell_type": "code",
   "execution_count": 59,
   "id": "68398190",
   "metadata": {
    "execution": {
     "iopub.execute_input": "2023-11-03T18:00:20.860793Z",
     "iopub.status.busy": "2023-11-03T18:00:20.860445Z",
     "iopub.status.idle": "2023-11-03T18:00:21.235988Z",
     "shell.execute_reply": "2023-11-03T18:00:21.234942Z"
    },
    "papermill": {
     "duration": 0.959361,
     "end_time": "2023-11-03T18:00:21.238060",
     "exception": false,
     "start_time": "2023-11-03T18:00:20.278699",
     "status": "completed"
    },
    "tags": []
   },
   "outputs": [
    {
     "data": {
      "text/plain": [
       "firm              0\n",
       "overall_rating    0\n",
       "review            0\n",
       "dtype: int64"
      ]
     },
     "execution_count": 59,
     "metadata": {},
     "output_type": "execute_result"
    }
   ],
   "source": [
    "df.dropna(subset=['review'], inplace=True)\n",
    "df.isna().sum()"
   ]
  },
  {
   "cell_type": "code",
   "execution_count": 60,
   "id": "e982c784",
   "metadata": {
    "execution": {
     "iopub.execute_input": "2023-11-03T18:00:22.258646Z",
     "iopub.status.busy": "2023-11-03T18:00:22.258283Z",
     "iopub.status.idle": "2023-11-03T18:00:22.270611Z",
     "shell.execute_reply": "2023-11-03T18:00:22.269767Z"
    },
    "papermill": {
     "duration": 0.525191,
     "end_time": "2023-11-03T18:00:22.272674",
     "exception": false,
     "start_time": "2023-11-03T18:00:21.747483",
     "status": "completed"
    },
    "tags": []
   },
   "outputs": [
    {
     "data": {
      "text/html": [
       "<div>\n",
       "<style scoped>\n",
       "    .dataframe tbody tr th:only-of-type {\n",
       "        vertical-align: middle;\n",
       "    }\n",
       "\n",
       "    .dataframe tbody tr th {\n",
       "        vertical-align: top;\n",
       "    }\n",
       "\n",
       "    .dataframe thead th {\n",
       "        text-align: right;\n",
       "    }\n",
       "</style>\n",
       "<table border=\"1\" class=\"dataframe\">\n",
       "  <thead>\n",
       "    <tr style=\"text-align: right;\">\n",
       "      <th></th>\n",
       "      <th>firm</th>\n",
       "      <th>overall_rating</th>\n",
       "      <th>review</th>\n",
       "    </tr>\n",
       "  </thead>\n",
       "  <tbody>\n",
       "    <tr>\n",
       "      <th>0</th>\n",
       "      <td>AFH-Wealth-Management</td>\n",
       "      <td>2</td>\n",
       "      <td>Young colleagues, poor micro management. Very ...</td>\n",
       "    </tr>\n",
       "    <tr>\n",
       "      <th>1</th>\n",
       "      <td>AFH-Wealth-Management</td>\n",
       "      <td>2</td>\n",
       "      <td>Excellent staff, poor salary. Friendly, helpfu...</td>\n",
       "    </tr>\n",
       "    <tr>\n",
       "      <th>2</th>\n",
       "      <td>AFH-Wealth-Management</td>\n",
       "      <td>1</td>\n",
       "      <td>Low salary, bad micromanagement. Easy to get t...</td>\n",
       "    </tr>\n",
       "    <tr>\n",
       "      <th>3</th>\n",
       "      <td>AFH-Wealth-Management</td>\n",
       "      <td>5</td>\n",
       "      <td>Over promised under delivered. Nice staff to w...</td>\n",
       "    </tr>\n",
       "    <tr>\n",
       "      <th>4</th>\n",
       "      <td>AFH-Wealth-Management</td>\n",
       "      <td>1</td>\n",
       "      <td>client reporting admin. Easy to get the job, N...</td>\n",
       "    </tr>\n",
       "    <tr>\n",
       "      <th>...</th>\n",
       "      <td>...</td>\n",
       "      <td>...</td>\n",
       "      <td>...</td>\n",
       "    </tr>\n",
       "    <tr>\n",
       "      <th>838561</th>\n",
       "      <td>the-LEGO-Group</td>\n",
       "      <td>5</td>\n",
       "      <td>Just an awesome company to work for!!!. Great ...</td>\n",
       "    </tr>\n",
       "    <tr>\n",
       "      <th>838562</th>\n",
       "      <td>the-LEGO-Group</td>\n",
       "      <td>3</td>\n",
       "      <td>working at lego. staff discount is really nice...</td>\n",
       "    </tr>\n",
       "    <tr>\n",
       "      <th>838563</th>\n",
       "      <td>the-LEGO-Group</td>\n",
       "      <td>4</td>\n",
       "      <td>not interested in growing their people. loved ...</td>\n",
       "    </tr>\n",
       "    <tr>\n",
       "      <th>838564</th>\n",
       "      <td>the-LEGO-Group</td>\n",
       "      <td>5</td>\n",
       "      <td>Great Place to Work. Good wages, good hours, l...</td>\n",
       "    </tr>\n",
       "    <tr>\n",
       "      <th>838565</th>\n",
       "      <td>the-LEGO-Group</td>\n",
       "      <td>5</td>\n",
       "      <td>I strongly recommend the LEGO Group as employe...</td>\n",
       "    </tr>\n",
       "  </tbody>\n",
       "</table>\n",
       "<p>835961 rows × 3 columns</p>\n",
       "</div>"
      ],
      "text/plain": [
       "                         firm  overall_rating  \\\n",
       "0       AFH-Wealth-Management               2   \n",
       "1       AFH-Wealth-Management               2   \n",
       "2       AFH-Wealth-Management               1   \n",
       "3       AFH-Wealth-Management               5   \n",
       "4       AFH-Wealth-Management               1   \n",
       "...                       ...             ...   \n",
       "838561         the-LEGO-Group               5   \n",
       "838562         the-LEGO-Group               3   \n",
       "838563         the-LEGO-Group               4   \n",
       "838564         the-LEGO-Group               5   \n",
       "838565         the-LEGO-Group               5   \n",
       "\n",
       "                                                   review  \n",
       "0       Young colleagues, poor micro management. Very ...  \n",
       "1       Excellent staff, poor salary. Friendly, helpfu...  \n",
       "2       Low salary, bad micromanagement. Easy to get t...  \n",
       "3       Over promised under delivered. Nice staff to w...  \n",
       "4       client reporting admin. Easy to get the job, N...  \n",
       "...                                                   ...  \n",
       "838561  Just an awesome company to work for!!!. Great ...  \n",
       "838562  working at lego. staff discount is really nice...  \n",
       "838563  not interested in growing their people. loved ...  \n",
       "838564  Great Place to Work. Good wages, good hours, l...  \n",
       "838565  I strongly recommend the LEGO Group as employe...  \n",
       "\n",
       "[835961 rows x 3 columns]"
      ]
     },
     "execution_count": 60,
     "metadata": {},
     "output_type": "execute_result"
    }
   ],
   "source": [
    "df"
   ]
  },
  {
   "cell_type": "code",
   "execution_count": 61,
   "id": "48e02bb2",
   "metadata": {
    "execution": {
     "iopub.execute_input": "2023-11-03T18:00:23.376030Z",
     "iopub.status.busy": "2023-11-03T18:00:23.375024Z",
     "iopub.status.idle": "2023-11-03T18:03:41.242952Z",
     "shell.execute_reply": "2023-11-03T18:03:41.241890Z"
    },
    "papermill": {
     "duration": 198.43219,
     "end_time": "2023-11-03T18:03:41.245526",
     "exception": false,
     "start_time": "2023-11-03T18:00:22.813336",
     "status": "completed"
    },
    "tags": []
   },
   "outputs": [],
   "source": [
    "unseen_reviews = df['review']\n",
    "\n",
    "unseen_processed = []\n",
    "for review in unseen_reviews:\n",
    "  review = preprocess_text(review)\n",
    "  unseen_processed.append(review)"
   ]
  },
  {
   "cell_type": "code",
   "execution_count": 62,
   "id": "3b6958d5",
   "metadata": {
    "execution": {
     "iopub.execute_input": "2023-11-03T18:03:42.255310Z",
     "iopub.status.busy": "2023-11-03T18:03:42.254625Z",
     "iopub.status.idle": "2023-11-03T18:04:06.871611Z",
     "shell.execute_reply": "2023-11-03T18:04:06.870556Z"
    },
    "papermill": {
     "duration": 25.116877,
     "end_time": "2023-11-03T18:04:06.874025",
     "exception": false,
     "start_time": "2023-11-03T18:03:41.757148",
     "status": "completed"
    },
    "tags": []
   },
   "outputs": [],
   "source": [
    "unseen_tokenized = word_tokenizer.texts_to_sequences(unseen_processed)\n",
    "\n",
    "unseen_padded = pad_sequences(unseen_tokenized, padding='post', maxlen=maxlen)"
   ]
  },
  {
   "cell_type": "code",
   "execution_count": 63,
   "id": "9f0c2962",
   "metadata": {
    "execution": {
     "iopub.execute_input": "2023-11-03T18:04:07.957816Z",
     "iopub.status.busy": "2023-11-03T18:04:07.957403Z",
     "iopub.status.idle": "2023-11-03T18:05:37.750068Z",
     "shell.execute_reply": "2023-11-03T18:05:37.749086Z"
    },
    "papermill": {
     "duration": 90.372643,
     "end_time": "2023-11-03T18:05:37.752134",
     "exception": false,
     "start_time": "2023-11-03T18:04:07.379491",
     "status": "completed"
    },
    "tags": []
   },
   "outputs": [
    {
     "name": "stdout",
     "output_type": "stream",
     "text": [
      "26124/26124 [==============================] - 72s 3ms/step\n"
     ]
    },
    {
     "data": {
      "text/plain": [
       "array([[0.15012121],\n",
       "       [0.49151212],\n",
       "       [0.06127306],\n",
       "       ...,\n",
       "       [0.47201824],\n",
       "       [0.9638182 ],\n",
       "       [0.9839792 ]], dtype=float32)"
      ]
     },
     "execution_count": 63,
     "metadata": {},
     "output_type": "execute_result"
    }
   ],
   "source": [
    "unseen_sentiments = lstm_model.predict(unseen_padded)\n",
    "\n",
    "unseen_sentiments"
   ]
  },
  {
   "cell_type": "code",
   "execution_count": 64,
   "id": "ec92b129",
   "metadata": {
    "execution": {
     "iopub.execute_input": "2023-11-03T18:05:39.036641Z",
     "iopub.status.busy": "2023-11-03T18:05:39.036238Z",
     "iopub.status.idle": "2023-11-03T18:05:39.053435Z",
     "shell.execute_reply": "2023-11-03T18:05:39.052528Z"
    },
    "papermill": {
     "duration": 0.624305,
     "end_time": "2023-11-03T18:05:39.055610",
     "exception": false,
     "start_time": "2023-11-03T18:05:38.431305",
     "status": "completed"
    },
    "tags": []
   },
   "outputs": [
    {
     "data": {
      "text/html": [
       "<div>\n",
       "<style scoped>\n",
       "    .dataframe tbody tr th:only-of-type {\n",
       "        vertical-align: middle;\n",
       "    }\n",
       "\n",
       "    .dataframe tbody tr th {\n",
       "        vertical-align: top;\n",
       "    }\n",
       "\n",
       "    .dataframe thead th {\n",
       "        text-align: right;\n",
       "    }\n",
       "</style>\n",
       "<table border=\"1\" class=\"dataframe\">\n",
       "  <thead>\n",
       "    <tr style=\"text-align: right;\">\n",
       "      <th></th>\n",
       "      <th>firm</th>\n",
       "      <th>overall_rating</th>\n",
       "      <th>review</th>\n",
       "      <th>Predicted_Sentiments</th>\n",
       "    </tr>\n",
       "  </thead>\n",
       "  <tbody>\n",
       "    <tr>\n",
       "      <th>0</th>\n",
       "      <td>AFH-Wealth-Management</td>\n",
       "      <td>2</td>\n",
       "      <td>Young colleagues, poor micro management. Very ...</td>\n",
       "      <td>1.5</td>\n",
       "    </tr>\n",
       "    <tr>\n",
       "      <th>1</th>\n",
       "      <td>AFH-Wealth-Management</td>\n",
       "      <td>2</td>\n",
       "      <td>Excellent staff, poor salary. Friendly, helpfu...</td>\n",
       "      <td>4.9</td>\n",
       "    </tr>\n",
       "    <tr>\n",
       "      <th>2</th>\n",
       "      <td>AFH-Wealth-Management</td>\n",
       "      <td>1</td>\n",
       "      <td>Low salary, bad micromanagement. Easy to get t...</td>\n",
       "      <td>0.6</td>\n",
       "    </tr>\n",
       "    <tr>\n",
       "      <th>3</th>\n",
       "      <td>AFH-Wealth-Management</td>\n",
       "      <td>5</td>\n",
       "      <td>Over promised under delivered. Nice staff to w...</td>\n",
       "      <td>4.5</td>\n",
       "    </tr>\n",
       "    <tr>\n",
       "      <th>4</th>\n",
       "      <td>AFH-Wealth-Management</td>\n",
       "      <td>1</td>\n",
       "      <td>client reporting admin. Easy to get the job, N...</td>\n",
       "      <td>0.6</td>\n",
       "    </tr>\n",
       "    <tr>\n",
       "      <th>...</th>\n",
       "      <td>...</td>\n",
       "      <td>...</td>\n",
       "      <td>...</td>\n",
       "      <td>...</td>\n",
       "    </tr>\n",
       "    <tr>\n",
       "      <th>838561</th>\n",
       "      <td>the-LEGO-Group</td>\n",
       "      <td>5</td>\n",
       "      <td>Just an awesome company to work for!!!. Great ...</td>\n",
       "      <td>9.8</td>\n",
       "    </tr>\n",
       "    <tr>\n",
       "      <th>838562</th>\n",
       "      <td>the-LEGO-Group</td>\n",
       "      <td>3</td>\n",
       "      <td>working at lego. staff discount is really nice...</td>\n",
       "      <td>6.5</td>\n",
       "    </tr>\n",
       "    <tr>\n",
       "      <th>838563</th>\n",
       "      <td>the-LEGO-Group</td>\n",
       "      <td>4</td>\n",
       "      <td>not interested in growing their people. loved ...</td>\n",
       "      <td>4.7</td>\n",
       "    </tr>\n",
       "    <tr>\n",
       "      <th>838564</th>\n",
       "      <td>the-LEGO-Group</td>\n",
       "      <td>5</td>\n",
       "      <td>Great Place to Work. Good wages, good hours, l...</td>\n",
       "      <td>9.6</td>\n",
       "    </tr>\n",
       "    <tr>\n",
       "      <th>838565</th>\n",
       "      <td>the-LEGO-Group</td>\n",
       "      <td>5</td>\n",
       "      <td>I strongly recommend the LEGO Group as employe...</td>\n",
       "      <td>9.8</td>\n",
       "    </tr>\n",
       "  </tbody>\n",
       "</table>\n",
       "<p>835961 rows × 4 columns</p>\n",
       "</div>"
      ],
      "text/plain": [
       "                         firm  overall_rating  \\\n",
       "0       AFH-Wealth-Management               2   \n",
       "1       AFH-Wealth-Management               2   \n",
       "2       AFH-Wealth-Management               1   \n",
       "3       AFH-Wealth-Management               5   \n",
       "4       AFH-Wealth-Management               1   \n",
       "...                       ...             ...   \n",
       "838561         the-LEGO-Group               5   \n",
       "838562         the-LEGO-Group               3   \n",
       "838563         the-LEGO-Group               4   \n",
       "838564         the-LEGO-Group               5   \n",
       "838565         the-LEGO-Group               5   \n",
       "\n",
       "                                                   review  \\\n",
       "0       Young colleagues, poor micro management. Very ...   \n",
       "1       Excellent staff, poor salary. Friendly, helpfu...   \n",
       "2       Low salary, bad micromanagement. Easy to get t...   \n",
       "3       Over promised under delivered. Nice staff to w...   \n",
       "4       client reporting admin. Easy to get the job, N...   \n",
       "...                                                   ...   \n",
       "838561  Just an awesome company to work for!!!. Great ...   \n",
       "838562  working at lego. staff discount is really nice...   \n",
       "838563  not interested in growing their people. loved ...   \n",
       "838564  Great Place to Work. Good wages, good hours, l...   \n",
       "838565  I strongly recommend the LEGO Group as employe...   \n",
       "\n",
       "        Predicted_Sentiments  \n",
       "0                        1.5  \n",
       "1                        4.9  \n",
       "2                        0.6  \n",
       "3                        4.5  \n",
       "4                        0.6  \n",
       "...                      ...  \n",
       "838561                   9.8  \n",
       "838562                   6.5  \n",
       "838563                   4.7  \n",
       "838564                   9.6  \n",
       "838565                   9.8  \n",
       "\n",
       "[835961 rows x 4 columns]"
      ]
     },
     "execution_count": 64,
     "metadata": {},
     "output_type": "execute_result"
    }
   ],
   "source": [
    "df['Predicted_Sentiments'] = np.round(unseen_sentiments*10,1)\n",
    "\n",
    "df"
   ]
  },
  {
   "cell_type": "code",
   "execution_count": 65,
   "id": "fe3427dc",
   "metadata": {
    "execution": {
     "iopub.execute_input": "2023-11-03T18:05:40.305685Z",
     "iopub.status.busy": "2023-11-03T18:05:40.304777Z",
     "iopub.status.idle": "2023-11-03T18:05:40.494015Z",
     "shell.execute_reply": "2023-11-03T18:05:40.493177Z"
    },
    "papermill": {
     "duration": 0.808907,
     "end_time": "2023-11-03T18:05:40.496362",
     "exception": false,
     "start_time": "2023-11-03T18:05:39.687455",
     "status": "completed"
    },
    "tags": []
   },
   "outputs": [],
   "source": [
    "average_scores = df.groupby('firm')['Predicted_Sentiments'].mean().reset_index()\n",
    "count_per_firm = df['firm'].value_counts().reset_index()"
   ]
  },
  {
   "cell_type": "code",
   "execution_count": 66,
   "id": "c30c2c92",
   "metadata": {
    "execution": {
     "iopub.execute_input": "2023-11-03T18:05:41.798921Z",
     "iopub.status.busy": "2023-11-03T18:05:41.798559Z",
     "iopub.status.idle": "2023-11-03T18:05:41.811403Z",
     "shell.execute_reply": "2023-11-03T18:05:41.810658Z"
    },
    "papermill": {
     "duration": 0.641477,
     "end_time": "2023-11-03T18:05:41.813333",
     "exception": false,
     "start_time": "2023-11-03T18:05:41.171856",
     "status": "completed"
    },
    "tags": []
   },
   "outputs": [],
   "source": [
    "average_scores.to_csv('/kaggle/working/average_sentiment_scores.csv', index=False)\n",
    "count_per_firm.to_csv('/kaggle/working/count_per_firm.csv', index=False)"
   ]
  }
 ],
 "metadata": {
  "kernelspec": {
   "display_name": "Python 3",
   "language": "python",
   "name": "python3"
  },
  "language_info": {
   "codemirror_mode": {
    "name": "ipython",
    "version": 3
   },
   "file_extension": ".py",
   "mimetype": "text/x-python",
   "name": "python",
   "nbconvert_exporter": "python",
   "pygments_lexer": "ipython3",
   "version": "3.10.12"
  },
  "papermill": {
   "default_parameters": {},
   "duration": 1519.804237,
   "end_time": "2023-11-03T18:05:46.235804",
   "environment_variables": {},
   "exception": null,
   "input_path": "__notebook__.ipynb",
   "output_path": "__notebook__.ipynb",
   "parameters": {},
   "start_time": "2023-11-03T17:40:26.431567",
   "version": "2.4.0"
  }
 },
 "nbformat": 4,
 "nbformat_minor": 5
}
